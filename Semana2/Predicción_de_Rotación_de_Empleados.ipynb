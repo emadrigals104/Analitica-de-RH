{
  "nbformat": 4,
  "nbformat_minor": 0,
  "metadata": {
    "colab": {
      "provenance": [],
      "toc_visible": true
    },
    "kernelspec": {
      "name": "python3",
      "display_name": "Python 3"
    },
    "language_info": {
      "name": "python"
    }
  },
  "cells": [
    {
      "cell_type": "markdown",
      "source": [
        "# **Predicción de Rotación de Empleados**"
      ],
      "metadata": {
        "id": "djvuV7--LkQf"
      }
    },
    {
      "cell_type": "markdown",
      "source": [
        "# **1. Descripción del Problema**\n",
        "La rotación de empleados es uno de los principales desafíos que enfrentan las organizaciones modernas. La pérdida de talento no solo representa un costo significativo en términos de reclutamiento y capacitación, sino también afecta la productividad, la moral del equipo y la continuidad de proyectos críticos. Comprender los factores que contribuyen a la rotación de empleados y predecir qué empleados tienen un alto riesgo de dejar la organización es esencial para implementar estrategias efectivas de retención.\n",
        "\n",
        "Este proyecto busca abordar este problema mediante el uso de técnicas de Machine Learning para predecir la probabilidad de rotación de empleados. Los modelos predictivos no solo proporcionarán insights sobre los factores clave que contribuyen a la rotación, sino que también permitirán a las organizaciones tomar decisiones basadas en datos para mejorar la retención y optimizar la gestión del talento.\n",
        "\n",
        "## **1.1 Descripción del Dataset**\n",
        "El dataset utilizado en este proyecto es un conjunto de datos sintético que representa información demográfica, laboral y de satisfacción de empleados. Incluye las siguientes columnas:\n",
        "\n",
        "- **ID_Empleado**: Identificador único del empleado.\n",
        "- **Edad**: Edad del empleado.\n",
        "- **Genero**: Género del empleado.\n",
        "- **Departamento**: Área funcional en la que trabaja el empleado.\n",
        "- **Anios_En_La_Empresa**: Tiempo total (en años) que el empleado ha trabajado en la organización.\n",
        "- **Ingreso_Mensual**: Salario mensual del empleado.\n",
        "- **Satisfaccion_Laboral**: Nivel de satisfacción laboral del empleado (escala de 1 a 4).\n",
        "- **Balance_Vida_Trabajo**: Percepción del equilibrio entre vida personal y trabajo (escala de 1 a 4).\n",
        "- **Horas_Extras**: Indicador de si el empleado trabaja horas extras (\"Yes\" o \"No\").\n",
        "- **Rol_Trabajo**: Puesto o función del empleado dentro de la organización.\n",
        "- **Anios_Desde_Ultima_Promocion**: Tiempo (en años) desde la última promoción del empleado.\n",
        "- **Veces_Entrenamiento_Ano**: Cantidad de veces que el empleado ha recibido capacitación en el último año.\n",
        "- **Rotacion**: Indicador de si el empleado dejó la organización (\"Yes\" o \"No\").\n",
        "\n",
        "Este dataset proporciona una base rica para explorar los factores asociados con la rotación y entrenar modelos predictivos.\n",
        "\n",
        "## **1.2 Lo Que Se Va a Realizar**\n",
        "En este proyecto, seguiremos un flujo estructurado que incluye:\n",
        "\n",
        "1. **Exploración y Análisis de los Datos**: Identificaremos patrones y relaciones entre las variables para comprender mejor el comportamiento de la rotación.\n",
        "2. **Preprocesamiento**: Limpieza de datos, manejo de valores nulos, codificación de variables categóricas y normalización de variables numéricas.\n",
        "3. **Construcción del Modelo Predictivo**: Implementaremos el modelo de árboles de decisión para predecir la rotación.\n",
        "4. **Evaluación del Modelo**: Analizaremos el desempeño del modelo utilizando métricas como la matriz de confusión, la curva ROC y las puntuaciones de precisión y recall.\n",
        "\n",
        "\n",
        "Este flujo asegura que no solo se desarrolle un modelo efectivo, sino que también se obtengan insights claros y útiles para la toma de decisiones."
      ],
      "metadata": {
        "id": "CVUdsTfOhbZc"
      }
    },
    {
      "cell_type": "markdown",
      "source": [
        "# **2. Importación de Librerías y Carga de datos**"
      ],
      "metadata": {
        "id": "-1OM66YFqzj6"
      }
    },
    {
      "cell_type": "markdown",
      "source": [
        "## **2.1 Importación de Librerías**\n",
        "Importamos todas las librerías necesarias para desarrollar el proyecto de predicción de rotación de empleados.\n"
      ],
      "metadata": {
        "id": "hC7ywpQtidCO"
      }
    },
    {
      "cell_type": "code",
      "source": [
        "# Importamos las librerías\n",
        "import pandas as pd  # Librería para manipulación y análisis de datos\n",
        "import numpy as np  # Librería para operaciones matemáticas\n",
        "import matplotlib.pyplot as plt  # Librería para visualización gráfica\n",
        "import seaborn as sns  # Librería para visualizaciones avanzadas\n",
        "from sklearn.model_selection import train_test_split  # División de datos en entrenamiento y prueba\n",
        "from sklearn.preprocessing import StandardScaler, OneHotEncoder, LabelEncoder  # Escalado y codificación\n",
        "from sklearn.tree import DecisionTreeClassifier # Modelo de árboles de decisión\n",
        "from sklearn.linear_model import LogisticRegression #Modelo de Regresión Logística\n",
        "from sklearn.metrics import classification_report, confusion_matrix, roc_auc_score, roc_curve, accuracy_score # Métricas de evaluación\n",
        "import warnings  # Librería para manejar advertencias"
      ],
      "metadata": {
        "id": "YqeCIUgQicP9"
      },
      "execution_count": null,
      "outputs": []
    },
    {
      "cell_type": "markdown",
      "source": [
        "## **2.2 Carga y Exploración del Dataset**\n",
        "Cargaremos el dataset generado previamente y realizaremos una exploración inicial de los datos. Esto nos permitirá entender la estructura del dataset, identificar posibles problemas y comenzar a visualizar patrones relevantes.\n",
        "\n",
        "### **Carga del Dataset**\n",
        "Utilizaremos la función `pd.read_csv` de la librería `pandas` para cargar el archivo CSV generado previamente.\n"
      ],
      "metadata": {
        "id": "NLfXduZajwWl"
      }
    },
    {
      "cell_type": "code",
      "source": [
        "# Cargar los datos\n",
        "datos = pd.read_csv('https://raw.githubusercontent.com/emadrigals104/Analitica-de-RH/main/Semana2/datos_rotacion_empleados.csv')\n",
        "\n",
        "# Mostrar las primeras filas del dataset\n",
        "datos.head()"
      ],
      "metadata": {
        "colab": {
          "base_uri": "https://localhost:8080/",
          "height": 206
        },
        "id": "sHnVFmEejvzF",
        "outputId": "dc9a7044-c764-4bd5-cc38-8f320525d860"
      },
      "execution_count": null,
      "outputs": [
        {
          "output_type": "execute_result",
          "data": {
            "text/plain": [
              "                            ID_Empleado  Edad  Genero Departamento  \\\n",
              "0  c2407940-35d3-4694-af68-85ebf9888ce4    21    Male           HR   \n",
              "1  9b7573b9-4ca6-43c7-8a3a-bf74decb1d15    27  Female           HR   \n",
              "2  afda97a8-9f2d-4cd4-8345-f6c26e8f415e    54  Female           IT   \n",
              "3  0dcd8f74-2d2d-488c-bdbf-80584547c3e9    23    Male        Sales   \n",
              "4  b015e2e1-3b14-4322-96eb-3c022d3a47f1    25    Male           IT   \n",
              "\n",
              "   Anios_En_La_Empresa  Ingreso_Mensual  Satisfaccion_Laboral  \\\n",
              "0                    7            11290                     4   \n",
              "1                   10            12887                     2   \n",
              "2                   19             8051                     1   \n",
              "3                   18            11720                     4   \n",
              "4                    9             6242                     2   \n",
              "\n",
              "   Balance_Vida_Trabajo Horas_Extras Rol_Trabajo  \\\n",
              "0                     1          Yes     Analyst   \n",
              "1                     4          Yes     Manager   \n",
              "2                     4          Yes     Analyst   \n",
              "3                     3           No     Manager   \n",
              "4                     4          Yes     Manager   \n",
              "\n",
              "   Anios_Desde_Ultima_Promocion  Veces_Entrenamiento_Ano Rotacion  \n",
              "0                             0                        3       No  \n",
              "1                             7                        4      Yes  \n",
              "2                             7                        6      Yes  \n",
              "3                             9                        3       No  \n",
              "4                             3                        4       No  "
            ],
            "text/html": [
              "\n",
              "  <div id=\"df-4e004f8a-e676-48d8-ba44-1b232ac57555\" class=\"colab-df-container\">\n",
              "    <div>\n",
              "<style scoped>\n",
              "    .dataframe tbody tr th:only-of-type {\n",
              "        vertical-align: middle;\n",
              "    }\n",
              "\n",
              "    .dataframe tbody tr th {\n",
              "        vertical-align: top;\n",
              "    }\n",
              "\n",
              "    .dataframe thead th {\n",
              "        text-align: right;\n",
              "    }\n",
              "</style>\n",
              "<table border=\"1\" class=\"dataframe\">\n",
              "  <thead>\n",
              "    <tr style=\"text-align: right;\">\n",
              "      <th></th>\n",
              "      <th>ID_Empleado</th>\n",
              "      <th>Edad</th>\n",
              "      <th>Genero</th>\n",
              "      <th>Departamento</th>\n",
              "      <th>Anios_En_La_Empresa</th>\n",
              "      <th>Ingreso_Mensual</th>\n",
              "      <th>Satisfaccion_Laboral</th>\n",
              "      <th>Balance_Vida_Trabajo</th>\n",
              "      <th>Horas_Extras</th>\n",
              "      <th>Rol_Trabajo</th>\n",
              "      <th>Anios_Desde_Ultima_Promocion</th>\n",
              "      <th>Veces_Entrenamiento_Ano</th>\n",
              "      <th>Rotacion</th>\n",
              "    </tr>\n",
              "  </thead>\n",
              "  <tbody>\n",
              "    <tr>\n",
              "      <th>0</th>\n",
              "      <td>c2407940-35d3-4694-af68-85ebf9888ce4</td>\n",
              "      <td>21</td>\n",
              "      <td>Male</td>\n",
              "      <td>HR</td>\n",
              "      <td>7</td>\n",
              "      <td>11290</td>\n",
              "      <td>4</td>\n",
              "      <td>1</td>\n",
              "      <td>Yes</td>\n",
              "      <td>Analyst</td>\n",
              "      <td>0</td>\n",
              "      <td>3</td>\n",
              "      <td>No</td>\n",
              "    </tr>\n",
              "    <tr>\n",
              "      <th>1</th>\n",
              "      <td>9b7573b9-4ca6-43c7-8a3a-bf74decb1d15</td>\n",
              "      <td>27</td>\n",
              "      <td>Female</td>\n",
              "      <td>HR</td>\n",
              "      <td>10</td>\n",
              "      <td>12887</td>\n",
              "      <td>2</td>\n",
              "      <td>4</td>\n",
              "      <td>Yes</td>\n",
              "      <td>Manager</td>\n",
              "      <td>7</td>\n",
              "      <td>4</td>\n",
              "      <td>Yes</td>\n",
              "    </tr>\n",
              "    <tr>\n",
              "      <th>2</th>\n",
              "      <td>afda97a8-9f2d-4cd4-8345-f6c26e8f415e</td>\n",
              "      <td>54</td>\n",
              "      <td>Female</td>\n",
              "      <td>IT</td>\n",
              "      <td>19</td>\n",
              "      <td>8051</td>\n",
              "      <td>1</td>\n",
              "      <td>4</td>\n",
              "      <td>Yes</td>\n",
              "      <td>Analyst</td>\n",
              "      <td>7</td>\n",
              "      <td>6</td>\n",
              "      <td>Yes</td>\n",
              "    </tr>\n",
              "    <tr>\n",
              "      <th>3</th>\n",
              "      <td>0dcd8f74-2d2d-488c-bdbf-80584547c3e9</td>\n",
              "      <td>23</td>\n",
              "      <td>Male</td>\n",
              "      <td>Sales</td>\n",
              "      <td>18</td>\n",
              "      <td>11720</td>\n",
              "      <td>4</td>\n",
              "      <td>3</td>\n",
              "      <td>No</td>\n",
              "      <td>Manager</td>\n",
              "      <td>9</td>\n",
              "      <td>3</td>\n",
              "      <td>No</td>\n",
              "    </tr>\n",
              "    <tr>\n",
              "      <th>4</th>\n",
              "      <td>b015e2e1-3b14-4322-96eb-3c022d3a47f1</td>\n",
              "      <td>25</td>\n",
              "      <td>Male</td>\n",
              "      <td>IT</td>\n",
              "      <td>9</td>\n",
              "      <td>6242</td>\n",
              "      <td>2</td>\n",
              "      <td>4</td>\n",
              "      <td>Yes</td>\n",
              "      <td>Manager</td>\n",
              "      <td>3</td>\n",
              "      <td>4</td>\n",
              "      <td>No</td>\n",
              "    </tr>\n",
              "  </tbody>\n",
              "</table>\n",
              "</div>\n",
              "    <div class=\"colab-df-buttons\">\n",
              "\n",
              "  <div class=\"colab-df-container\">\n",
              "    <button class=\"colab-df-convert\" onclick=\"convertToInteractive('df-4e004f8a-e676-48d8-ba44-1b232ac57555')\"\n",
              "            title=\"Convert this dataframe to an interactive table.\"\n",
              "            style=\"display:none;\">\n",
              "\n",
              "  <svg xmlns=\"http://www.w3.org/2000/svg\" height=\"24px\" viewBox=\"0 -960 960 960\">\n",
              "    <path d=\"M120-120v-720h720v720H120Zm60-500h600v-160H180v160Zm220 220h160v-160H400v160Zm0 220h160v-160H400v160ZM180-400h160v-160H180v160Zm440 0h160v-160H620v160ZM180-180h160v-160H180v160Zm440 0h160v-160H620v160Z\"/>\n",
              "  </svg>\n",
              "    </button>\n",
              "\n",
              "  <style>\n",
              "    .colab-df-container {\n",
              "      display:flex;\n",
              "      gap: 12px;\n",
              "    }\n",
              "\n",
              "    .colab-df-convert {\n",
              "      background-color: #E8F0FE;\n",
              "      border: none;\n",
              "      border-radius: 50%;\n",
              "      cursor: pointer;\n",
              "      display: none;\n",
              "      fill: #1967D2;\n",
              "      height: 32px;\n",
              "      padding: 0 0 0 0;\n",
              "      width: 32px;\n",
              "    }\n",
              "\n",
              "    .colab-df-convert:hover {\n",
              "      background-color: #E2EBFA;\n",
              "      box-shadow: 0px 1px 2px rgba(60, 64, 67, 0.3), 0px 1px 3px 1px rgba(60, 64, 67, 0.15);\n",
              "      fill: #174EA6;\n",
              "    }\n",
              "\n",
              "    .colab-df-buttons div {\n",
              "      margin-bottom: 4px;\n",
              "    }\n",
              "\n",
              "    [theme=dark] .colab-df-convert {\n",
              "      background-color: #3B4455;\n",
              "      fill: #D2E3FC;\n",
              "    }\n",
              "\n",
              "    [theme=dark] .colab-df-convert:hover {\n",
              "      background-color: #434B5C;\n",
              "      box-shadow: 0px 1px 3px 1px rgba(0, 0, 0, 0.15);\n",
              "      filter: drop-shadow(0px 1px 2px rgba(0, 0, 0, 0.3));\n",
              "      fill: #FFFFFF;\n",
              "    }\n",
              "  </style>\n",
              "\n",
              "    <script>\n",
              "      const buttonEl =\n",
              "        document.querySelector('#df-4e004f8a-e676-48d8-ba44-1b232ac57555 button.colab-df-convert');\n",
              "      buttonEl.style.display =\n",
              "        google.colab.kernel.accessAllowed ? 'block' : 'none';\n",
              "\n",
              "      async function convertToInteractive(key) {\n",
              "        const element = document.querySelector('#df-4e004f8a-e676-48d8-ba44-1b232ac57555');\n",
              "        const dataTable =\n",
              "          await google.colab.kernel.invokeFunction('convertToInteractive',\n",
              "                                                    [key], {});\n",
              "        if (!dataTable) return;\n",
              "\n",
              "        const docLinkHtml = 'Like what you see? Visit the ' +\n",
              "          '<a target=\"_blank\" href=https://colab.research.google.com/notebooks/data_table.ipynb>data table notebook</a>'\n",
              "          + ' to learn more about interactive tables.';\n",
              "        element.innerHTML = '';\n",
              "        dataTable['output_type'] = 'display_data';\n",
              "        await google.colab.output.renderOutput(dataTable, element);\n",
              "        const docLink = document.createElement('div');\n",
              "        docLink.innerHTML = docLinkHtml;\n",
              "        element.appendChild(docLink);\n",
              "      }\n",
              "    </script>\n",
              "  </div>\n",
              "\n",
              "\n",
              "    <div id=\"df-f2eb71d3-3f4a-4f52-99f3-34f93176cddc\">\n",
              "      <button class=\"colab-df-quickchart\" onclick=\"quickchart('df-f2eb71d3-3f4a-4f52-99f3-34f93176cddc')\"\n",
              "                title=\"Suggest charts\"\n",
              "                style=\"display:none;\">\n",
              "\n",
              "<svg xmlns=\"http://www.w3.org/2000/svg\" height=\"24px\"viewBox=\"0 0 24 24\"\n",
              "     width=\"24px\">\n",
              "    <g>\n",
              "        <path d=\"M19 3H5c-1.1 0-2 .9-2 2v14c0 1.1.9 2 2 2h14c1.1 0 2-.9 2-2V5c0-1.1-.9-2-2-2zM9 17H7v-7h2v7zm4 0h-2V7h2v10zm4 0h-2v-4h2v4z\"/>\n",
              "    </g>\n",
              "</svg>\n",
              "      </button>\n",
              "\n",
              "<style>\n",
              "  .colab-df-quickchart {\n",
              "      --bg-color: #E8F0FE;\n",
              "      --fill-color: #1967D2;\n",
              "      --hover-bg-color: #E2EBFA;\n",
              "      --hover-fill-color: #174EA6;\n",
              "      --disabled-fill-color: #AAA;\n",
              "      --disabled-bg-color: #DDD;\n",
              "  }\n",
              "\n",
              "  [theme=dark] .colab-df-quickchart {\n",
              "      --bg-color: #3B4455;\n",
              "      --fill-color: #D2E3FC;\n",
              "      --hover-bg-color: #434B5C;\n",
              "      --hover-fill-color: #FFFFFF;\n",
              "      --disabled-bg-color: #3B4455;\n",
              "      --disabled-fill-color: #666;\n",
              "  }\n",
              "\n",
              "  .colab-df-quickchart {\n",
              "    background-color: var(--bg-color);\n",
              "    border: none;\n",
              "    border-radius: 50%;\n",
              "    cursor: pointer;\n",
              "    display: none;\n",
              "    fill: var(--fill-color);\n",
              "    height: 32px;\n",
              "    padding: 0;\n",
              "    width: 32px;\n",
              "  }\n",
              "\n",
              "  .colab-df-quickchart:hover {\n",
              "    background-color: var(--hover-bg-color);\n",
              "    box-shadow: 0 1px 2px rgba(60, 64, 67, 0.3), 0 1px 3px 1px rgba(60, 64, 67, 0.15);\n",
              "    fill: var(--button-hover-fill-color);\n",
              "  }\n",
              "\n",
              "  .colab-df-quickchart-complete:disabled,\n",
              "  .colab-df-quickchart-complete:disabled:hover {\n",
              "    background-color: var(--disabled-bg-color);\n",
              "    fill: var(--disabled-fill-color);\n",
              "    box-shadow: none;\n",
              "  }\n",
              "\n",
              "  .colab-df-spinner {\n",
              "    border: 2px solid var(--fill-color);\n",
              "    border-color: transparent;\n",
              "    border-bottom-color: var(--fill-color);\n",
              "    animation:\n",
              "      spin 1s steps(1) infinite;\n",
              "  }\n",
              "\n",
              "  @keyframes spin {\n",
              "    0% {\n",
              "      border-color: transparent;\n",
              "      border-bottom-color: var(--fill-color);\n",
              "      border-left-color: var(--fill-color);\n",
              "    }\n",
              "    20% {\n",
              "      border-color: transparent;\n",
              "      border-left-color: var(--fill-color);\n",
              "      border-top-color: var(--fill-color);\n",
              "    }\n",
              "    30% {\n",
              "      border-color: transparent;\n",
              "      border-left-color: var(--fill-color);\n",
              "      border-top-color: var(--fill-color);\n",
              "      border-right-color: var(--fill-color);\n",
              "    }\n",
              "    40% {\n",
              "      border-color: transparent;\n",
              "      border-right-color: var(--fill-color);\n",
              "      border-top-color: var(--fill-color);\n",
              "    }\n",
              "    60% {\n",
              "      border-color: transparent;\n",
              "      border-right-color: var(--fill-color);\n",
              "    }\n",
              "    80% {\n",
              "      border-color: transparent;\n",
              "      border-right-color: var(--fill-color);\n",
              "      border-bottom-color: var(--fill-color);\n",
              "    }\n",
              "    90% {\n",
              "      border-color: transparent;\n",
              "      border-bottom-color: var(--fill-color);\n",
              "    }\n",
              "  }\n",
              "</style>\n",
              "\n",
              "      <script>\n",
              "        async function quickchart(key) {\n",
              "          const quickchartButtonEl =\n",
              "            document.querySelector('#' + key + ' button');\n",
              "          quickchartButtonEl.disabled = true;  // To prevent multiple clicks.\n",
              "          quickchartButtonEl.classList.add('colab-df-spinner');\n",
              "          try {\n",
              "            const charts = await google.colab.kernel.invokeFunction(\n",
              "                'suggestCharts', [key], {});\n",
              "          } catch (error) {\n",
              "            console.error('Error during call to suggestCharts:', error);\n",
              "          }\n",
              "          quickchartButtonEl.classList.remove('colab-df-spinner');\n",
              "          quickchartButtonEl.classList.add('colab-df-quickchart-complete');\n",
              "        }\n",
              "        (() => {\n",
              "          let quickchartButtonEl =\n",
              "            document.querySelector('#df-f2eb71d3-3f4a-4f52-99f3-34f93176cddc button');\n",
              "          quickchartButtonEl.style.display =\n",
              "            google.colab.kernel.accessAllowed ? 'block' : 'none';\n",
              "        })();\n",
              "      </script>\n",
              "    </div>\n",
              "\n",
              "    </div>\n",
              "  </div>\n"
            ],
            "application/vnd.google.colaboratory.intrinsic+json": {
              "type": "dataframe",
              "variable_name": "datos",
              "summary": "{\n  \"name\": \"datos\",\n  \"rows\": 4000,\n  \"fields\": [\n    {\n      \"column\": \"ID_Empleado\",\n      \"properties\": {\n        \"dtype\": \"category\",\n        \"num_unique_values\": 1000,\n        \"samples\": [\n          \"d6142da4-aae7-43d5-9dc4-c15404e5d8b2\",\n          \"8c94d921-bb48-423d-bdd8-f98b477846ea\",\n          \"754a1e99-a0a0-4777-b920-d12dfef245e3\"\n        ],\n        \"semantic_type\": \"\",\n        \"description\": \"\"\n      }\n    },\n    {\n      \"column\": \"Edad\",\n      \"properties\": {\n        \"dtype\": \"number\",\n        \"std\": 11,\n        \"min\": 17,\n        \"max\": 61,\n        \"num_unique_values\": 45,\n        \"samples\": [\n          59,\n          58,\n          36\n        ],\n        \"semantic_type\": \"\",\n        \"description\": \"\"\n      }\n    },\n    {\n      \"column\": \"Genero\",\n      \"properties\": {\n        \"dtype\": \"category\",\n        \"num_unique_values\": 2,\n        \"samples\": [\n          \"Female\",\n          \"Male\"\n        ],\n        \"semantic_type\": \"\",\n        \"description\": \"\"\n      }\n    },\n    {\n      \"column\": \"Departamento\",\n      \"properties\": {\n        \"dtype\": \"category\",\n        \"num_unique_values\": 5,\n        \"samples\": [\n          \"IT\",\n          \"Marketing\"\n        ],\n        \"semantic_type\": \"\",\n        \"description\": \"\"\n      }\n    },\n    {\n      \"column\": \"Anios_En_La_Empresa\",\n      \"properties\": {\n        \"dtype\": \"number\",\n        \"std\": 5,\n        \"min\": 0,\n        \"max\": 21,\n        \"num_unique_values\": 22,\n        \"samples\": [\n          7,\n          14\n        ],\n        \"semantic_type\": \"\",\n        \"description\": \"\"\n      }\n    },\n    {\n      \"column\": \"Ingreso_Mensual\",\n      \"properties\": {\n        \"dtype\": \"number\",\n        \"std\": 3771,\n        \"min\": 2007,\n        \"max\": 14989,\n        \"num_unique_values\": 2224,\n        \"samples\": [\n          13420,\n          6000\n        ],\n        \"semantic_type\": \"\",\n        \"description\": \"\"\n      }\n    },\n    {\n      \"column\": \"Satisfaccion_Laboral\",\n      \"properties\": {\n        \"dtype\": \"number\",\n        \"std\": 1,\n        \"min\": 0,\n        \"max\": 7,\n        \"num_unique_values\": 8,\n        \"samples\": [\n          2,\n          0\n        ],\n        \"semantic_type\": \"\",\n        \"description\": \"\"\n      }\n    },\n    {\n      \"column\": \"Balance_Vida_Trabajo\",\n      \"properties\": {\n        \"dtype\": \"number\",\n        \"std\": 1,\n        \"min\": 0,\n        \"max\": 7,\n        \"num_unique_values\": 8,\n        \"samples\": [\n          4,\n          5\n        ],\n        \"semantic_type\": \"\",\n        \"description\": \"\"\n      }\n    },\n    {\n      \"column\": \"Horas_Extras\",\n      \"properties\": {\n        \"dtype\": \"category\",\n        \"num_unique_values\": 2,\n        \"samples\": [\n          \"No\",\n          \"Yes\"\n        ],\n        \"semantic_type\": \"\",\n        \"description\": \"\"\n      }\n    },\n    {\n      \"column\": \"Rol_Trabajo\",\n      \"properties\": {\n        \"dtype\": \"category\",\n        \"num_unique_values\": 5,\n        \"samples\": [\n          \"Manager\",\n          \"Engineer\"\n        ],\n        \"semantic_type\": \"\",\n        \"description\": \"\"\n      }\n    },\n    {\n      \"column\": \"Anios_Desde_Ultima_Promocion\",\n      \"properties\": {\n        \"dtype\": \"number\",\n        \"std\": 2,\n        \"min\": 0,\n        \"max\": 12,\n        \"num_unique_values\": 13,\n        \"samples\": [\n          11,\n          5\n        ],\n        \"semantic_type\": \"\",\n        \"description\": \"\"\n      }\n    },\n    {\n      \"column\": \"Veces_Entrenamiento_Ano\",\n      \"properties\": {\n        \"dtype\": \"number\",\n        \"std\": 2,\n        \"min\": 0,\n        \"max\": 11,\n        \"num_unique_values\": 12,\n        \"samples\": [\n          10,\n          9\n        ],\n        \"semantic_type\": \"\",\n        \"description\": \"\"\n      }\n    },\n    {\n      \"column\": \"Rotacion\",\n      \"properties\": {\n        \"dtype\": \"category\",\n        \"num_unique_values\": 2,\n        \"samples\": [\n          \"Yes\",\n          \"No\"\n        ],\n        \"semantic_type\": \"\",\n        \"description\": \"\"\n      }\n    }\n  ]\n}"
            }
          },
          "metadata": {},
          "execution_count": 3
        }
      ]
    },
    {
      "cell_type": "markdown",
      "source": [
        "# **3. Exploración Inicial de los Datos**\n",
        "Realizaremos un análisis básico del dataset:\n",
        "- Dimensiones (número de filas y columnas).\n",
        "- Tipos de datos de cada columna.\n",
        "- Valores nulos.\n",
        "- Estadísticas descriptivas."
      ],
      "metadata": {
        "id": "l0Rm4Z9OkCU9"
      }
    },
    {
      "cell_type": "code",
      "source": [
        "# Dimensiones del dataset\n",
        "print(f\"El dataset contiene {datos.shape[0]} filas y {datos.shape[1]} columnas.\")"
      ],
      "metadata": {
        "colab": {
          "base_uri": "https://localhost:8080/"
        },
        "id": "1bDwP3GeiaPW",
        "outputId": "6f1eed7c-5c85-49d4-95d2-17009c700166"
      },
      "execution_count": null,
      "outputs": [
        {
          "output_type": "stream",
          "name": "stdout",
          "text": [
            "El dataset contiene 4000 filas y 13 columnas.\n"
          ]
        }
      ]
    },
    {
      "cell_type": "code",
      "execution_count": null,
      "metadata": {
        "colab": {
          "base_uri": "https://localhost:8080/"
        },
        "id": "UDzZDk0vgN0d",
        "outputId": "5ef7ae94-8edb-4c60-c499-29c6c30cb4a0"
      },
      "outputs": [
        {
          "output_type": "stream",
          "name": "stdout",
          "text": [
            "Tipos de datos por columna:\n",
            "ID_Empleado                     object\n",
            "Edad                             int64\n",
            "Genero                          object\n",
            "Departamento                    object\n",
            "Anios_En_La_Empresa              int64\n",
            "Ingreso_Mensual                  int64\n",
            "Satisfaccion_Laboral             int64\n",
            "Balance_Vida_Trabajo             int64\n",
            "Horas_Extras                    object\n",
            "Rol_Trabajo                     object\n",
            "Anios_Desde_Ultima_Promocion     int64\n",
            "Veces_Entrenamiento_Ano          int64\n",
            "Rotacion                        object\n",
            "dtype: object\n"
          ]
        }
      ],
      "source": [
        "# Tipos de datos\n",
        "print(\"Tipos de datos por columna:\")\n",
        "print(datos.dtypes)"
      ]
    },
    {
      "cell_type": "code",
      "source": [
        "# Verificar valores nulos\n",
        "print(\"Valores nulos por columna:\")\n",
        "print(datos.isnull().sum())"
      ],
      "metadata": {
        "colab": {
          "base_uri": "https://localhost:8080/"
        },
        "id": "T_kI-1WskHZ1",
        "outputId": "08474c4d-a040-4ba5-d5b3-d3da8bdaabcc"
      },
      "execution_count": null,
      "outputs": [
        {
          "output_type": "stream",
          "name": "stdout",
          "text": [
            "Valores nulos por columna:\n",
            "ID_Empleado                     0\n",
            "Edad                            0\n",
            "Genero                          0\n",
            "Departamento                    0\n",
            "Anios_En_La_Empresa             0\n",
            "Ingreso_Mensual                 0\n",
            "Satisfaccion_Laboral            0\n",
            "Balance_Vida_Trabajo            0\n",
            "Horas_Extras                    0\n",
            "Rol_Trabajo                     0\n",
            "Anios_Desde_Ultima_Promocion    0\n",
            "Veces_Entrenamiento_Ano         0\n",
            "Rotacion                        0\n",
            "dtype: int64\n"
          ]
        }
      ]
    },
    {
      "cell_type": "code",
      "source": [
        "# Estadísticas descriptivas\n",
        "print(\"Estadísticas descriptivas:\")\n",
        "datos.describe()"
      ],
      "metadata": {
        "colab": {
          "base_uri": "https://localhost:8080/",
          "height": 318
        },
        "id": "mG0cH8tSkJbN",
        "outputId": "8ac3f7b8-7493-4f02-d11c-2bd347513815"
      },
      "execution_count": null,
      "outputs": [
        {
          "output_type": "stream",
          "name": "stdout",
          "text": [
            "Estadísticas descriptivas:\n"
          ]
        },
        {
          "output_type": "execute_result",
          "data": {
            "text/plain": [
              "              Edad  Anios_En_La_Empresa  Ingreso_Mensual  \\\n",
              "count  4000.000000          4000.000000      4000.000000   \n",
              "mean     38.663000             9.404500      8376.622000   \n",
              "std      11.919079             5.695787      3771.690881   \n",
              "min      17.000000             0.000000      2007.000000   \n",
              "25%      28.000000             5.000000      5027.250000   \n",
              "50%      38.000000            10.000000      8444.000000   \n",
              "75%      49.000000            14.000000     11500.000000   \n",
              "max      61.000000            21.000000     14989.000000   \n",
              "\n",
              "       Satisfaccion_Laboral  Balance_Vida_Trabajo  \\\n",
              "count           4000.000000           4000.000000   \n",
              "mean               2.171250              2.176000   \n",
              "std                1.356792              1.404285   \n",
              "min                0.000000              0.000000   \n",
              "25%                1.000000              1.000000   \n",
              "50%                2.000000              2.000000   \n",
              "75%                3.000000              3.000000   \n",
              "max                7.000000              7.000000   \n",
              "\n",
              "       Anios_Desde_Ultima_Promocion  Veces_Entrenamiento_Ano  \n",
              "count                   4000.000000              4000.000000  \n",
              "mean                       4.089250                 4.314500  \n",
              "std                        2.856716                 2.798848  \n",
              "min                        0.000000                 0.000000  \n",
              "25%                        2.000000                 2.000000  \n",
              "50%                        4.000000                 4.000000  \n",
              "75%                        6.000000                 7.000000  \n",
              "max                       12.000000                11.000000  "
            ],
            "text/html": [
              "\n",
              "  <div id=\"df-16bbbf63-ae52-43e3-ad11-efb1493cd03d\" class=\"colab-df-container\">\n",
              "    <div>\n",
              "<style scoped>\n",
              "    .dataframe tbody tr th:only-of-type {\n",
              "        vertical-align: middle;\n",
              "    }\n",
              "\n",
              "    .dataframe tbody tr th {\n",
              "        vertical-align: top;\n",
              "    }\n",
              "\n",
              "    .dataframe thead th {\n",
              "        text-align: right;\n",
              "    }\n",
              "</style>\n",
              "<table border=\"1\" class=\"dataframe\">\n",
              "  <thead>\n",
              "    <tr style=\"text-align: right;\">\n",
              "      <th></th>\n",
              "      <th>Edad</th>\n",
              "      <th>Anios_En_La_Empresa</th>\n",
              "      <th>Ingreso_Mensual</th>\n",
              "      <th>Satisfaccion_Laboral</th>\n",
              "      <th>Balance_Vida_Trabajo</th>\n",
              "      <th>Anios_Desde_Ultima_Promocion</th>\n",
              "      <th>Veces_Entrenamiento_Ano</th>\n",
              "    </tr>\n",
              "  </thead>\n",
              "  <tbody>\n",
              "    <tr>\n",
              "      <th>count</th>\n",
              "      <td>4000.000000</td>\n",
              "      <td>4000.000000</td>\n",
              "      <td>4000.000000</td>\n",
              "      <td>4000.000000</td>\n",
              "      <td>4000.000000</td>\n",
              "      <td>4000.000000</td>\n",
              "      <td>4000.000000</td>\n",
              "    </tr>\n",
              "    <tr>\n",
              "      <th>mean</th>\n",
              "      <td>38.663000</td>\n",
              "      <td>9.404500</td>\n",
              "      <td>8376.622000</td>\n",
              "      <td>2.171250</td>\n",
              "      <td>2.176000</td>\n",
              "      <td>4.089250</td>\n",
              "      <td>4.314500</td>\n",
              "    </tr>\n",
              "    <tr>\n",
              "      <th>std</th>\n",
              "      <td>11.919079</td>\n",
              "      <td>5.695787</td>\n",
              "      <td>3771.690881</td>\n",
              "      <td>1.356792</td>\n",
              "      <td>1.404285</td>\n",
              "      <td>2.856716</td>\n",
              "      <td>2.798848</td>\n",
              "    </tr>\n",
              "    <tr>\n",
              "      <th>min</th>\n",
              "      <td>17.000000</td>\n",
              "      <td>0.000000</td>\n",
              "      <td>2007.000000</td>\n",
              "      <td>0.000000</td>\n",
              "      <td>0.000000</td>\n",
              "      <td>0.000000</td>\n",
              "      <td>0.000000</td>\n",
              "    </tr>\n",
              "    <tr>\n",
              "      <th>25%</th>\n",
              "      <td>28.000000</td>\n",
              "      <td>5.000000</td>\n",
              "      <td>5027.250000</td>\n",
              "      <td>1.000000</td>\n",
              "      <td>1.000000</td>\n",
              "      <td>2.000000</td>\n",
              "      <td>2.000000</td>\n",
              "    </tr>\n",
              "    <tr>\n",
              "      <th>50%</th>\n",
              "      <td>38.000000</td>\n",
              "      <td>10.000000</td>\n",
              "      <td>8444.000000</td>\n",
              "      <td>2.000000</td>\n",
              "      <td>2.000000</td>\n",
              "      <td>4.000000</td>\n",
              "      <td>4.000000</td>\n",
              "    </tr>\n",
              "    <tr>\n",
              "      <th>75%</th>\n",
              "      <td>49.000000</td>\n",
              "      <td>14.000000</td>\n",
              "      <td>11500.000000</td>\n",
              "      <td>3.000000</td>\n",
              "      <td>3.000000</td>\n",
              "      <td>6.000000</td>\n",
              "      <td>7.000000</td>\n",
              "    </tr>\n",
              "    <tr>\n",
              "      <th>max</th>\n",
              "      <td>61.000000</td>\n",
              "      <td>21.000000</td>\n",
              "      <td>14989.000000</td>\n",
              "      <td>7.000000</td>\n",
              "      <td>7.000000</td>\n",
              "      <td>12.000000</td>\n",
              "      <td>11.000000</td>\n",
              "    </tr>\n",
              "  </tbody>\n",
              "</table>\n",
              "</div>\n",
              "    <div class=\"colab-df-buttons\">\n",
              "\n",
              "  <div class=\"colab-df-container\">\n",
              "    <button class=\"colab-df-convert\" onclick=\"convertToInteractive('df-16bbbf63-ae52-43e3-ad11-efb1493cd03d')\"\n",
              "            title=\"Convert this dataframe to an interactive table.\"\n",
              "            style=\"display:none;\">\n",
              "\n",
              "  <svg xmlns=\"http://www.w3.org/2000/svg\" height=\"24px\" viewBox=\"0 -960 960 960\">\n",
              "    <path d=\"M120-120v-720h720v720H120Zm60-500h600v-160H180v160Zm220 220h160v-160H400v160Zm0 220h160v-160H400v160ZM180-400h160v-160H180v160Zm440 0h160v-160H620v160ZM180-180h160v-160H180v160Zm440 0h160v-160H620v160Z\"/>\n",
              "  </svg>\n",
              "    </button>\n",
              "\n",
              "  <style>\n",
              "    .colab-df-container {\n",
              "      display:flex;\n",
              "      gap: 12px;\n",
              "    }\n",
              "\n",
              "    .colab-df-convert {\n",
              "      background-color: #E8F0FE;\n",
              "      border: none;\n",
              "      border-radius: 50%;\n",
              "      cursor: pointer;\n",
              "      display: none;\n",
              "      fill: #1967D2;\n",
              "      height: 32px;\n",
              "      padding: 0 0 0 0;\n",
              "      width: 32px;\n",
              "    }\n",
              "\n",
              "    .colab-df-convert:hover {\n",
              "      background-color: #E2EBFA;\n",
              "      box-shadow: 0px 1px 2px rgba(60, 64, 67, 0.3), 0px 1px 3px 1px rgba(60, 64, 67, 0.15);\n",
              "      fill: #174EA6;\n",
              "    }\n",
              "\n",
              "    .colab-df-buttons div {\n",
              "      margin-bottom: 4px;\n",
              "    }\n",
              "\n",
              "    [theme=dark] .colab-df-convert {\n",
              "      background-color: #3B4455;\n",
              "      fill: #D2E3FC;\n",
              "    }\n",
              "\n",
              "    [theme=dark] .colab-df-convert:hover {\n",
              "      background-color: #434B5C;\n",
              "      box-shadow: 0px 1px 3px 1px rgba(0, 0, 0, 0.15);\n",
              "      filter: drop-shadow(0px 1px 2px rgba(0, 0, 0, 0.3));\n",
              "      fill: #FFFFFF;\n",
              "    }\n",
              "  </style>\n",
              "\n",
              "    <script>\n",
              "      const buttonEl =\n",
              "        document.querySelector('#df-16bbbf63-ae52-43e3-ad11-efb1493cd03d button.colab-df-convert');\n",
              "      buttonEl.style.display =\n",
              "        google.colab.kernel.accessAllowed ? 'block' : 'none';\n",
              "\n",
              "      async function convertToInteractive(key) {\n",
              "        const element = document.querySelector('#df-16bbbf63-ae52-43e3-ad11-efb1493cd03d');\n",
              "        const dataTable =\n",
              "          await google.colab.kernel.invokeFunction('convertToInteractive',\n",
              "                                                    [key], {});\n",
              "        if (!dataTable) return;\n",
              "\n",
              "        const docLinkHtml = 'Like what you see? Visit the ' +\n",
              "          '<a target=\"_blank\" href=https://colab.research.google.com/notebooks/data_table.ipynb>data table notebook</a>'\n",
              "          + ' to learn more about interactive tables.';\n",
              "        element.innerHTML = '';\n",
              "        dataTable['output_type'] = 'display_data';\n",
              "        await google.colab.output.renderOutput(dataTable, element);\n",
              "        const docLink = document.createElement('div');\n",
              "        docLink.innerHTML = docLinkHtml;\n",
              "        element.appendChild(docLink);\n",
              "      }\n",
              "    </script>\n",
              "  </div>\n",
              "\n",
              "\n",
              "<div id=\"df-86373ede-0287-49b1-a736-76d07d47c836\">\n",
              "  <button class=\"colab-df-quickchart\" onclick=\"quickchart('df-86373ede-0287-49b1-a736-76d07d47c836')\"\n",
              "            title=\"Suggest charts\"\n",
              "            style=\"display:none;\">\n",
              "\n",
              "<svg xmlns=\"http://www.w3.org/2000/svg\" height=\"24px\"viewBox=\"0 0 24 24\"\n",
              "     width=\"24px\">\n",
              "    <g>\n",
              "        <path d=\"M19 3H5c-1.1 0-2 .9-2 2v14c0 1.1.9 2 2 2h14c1.1 0 2-.9 2-2V5c0-1.1-.9-2-2-2zM9 17H7v-7h2v7zm4 0h-2V7h2v10zm4 0h-2v-4h2v4z\"/>\n",
              "    </g>\n",
              "</svg>\n",
              "  </button>\n",
              "\n",
              "<style>\n",
              "  .colab-df-quickchart {\n",
              "      --bg-color: #E8F0FE;\n",
              "      --fill-color: #1967D2;\n",
              "      --hover-bg-color: #E2EBFA;\n",
              "      --hover-fill-color: #174EA6;\n",
              "      --disabled-fill-color: #AAA;\n",
              "      --disabled-bg-color: #DDD;\n",
              "  }\n",
              "\n",
              "  [theme=dark] .colab-df-quickchart {\n",
              "      --bg-color: #3B4455;\n",
              "      --fill-color: #D2E3FC;\n",
              "      --hover-bg-color: #434B5C;\n",
              "      --hover-fill-color: #FFFFFF;\n",
              "      --disabled-bg-color: #3B4455;\n",
              "      --disabled-fill-color: #666;\n",
              "  }\n",
              "\n",
              "  .colab-df-quickchart {\n",
              "    background-color: var(--bg-color);\n",
              "    border: none;\n",
              "    border-radius: 50%;\n",
              "    cursor: pointer;\n",
              "    display: none;\n",
              "    fill: var(--fill-color);\n",
              "    height: 32px;\n",
              "    padding: 0;\n",
              "    width: 32px;\n",
              "  }\n",
              "\n",
              "  .colab-df-quickchart:hover {\n",
              "    background-color: var(--hover-bg-color);\n",
              "    box-shadow: 0 1px 2px rgba(60, 64, 67, 0.3), 0 1px 3px 1px rgba(60, 64, 67, 0.15);\n",
              "    fill: var(--button-hover-fill-color);\n",
              "  }\n",
              "\n",
              "  .colab-df-quickchart-complete:disabled,\n",
              "  .colab-df-quickchart-complete:disabled:hover {\n",
              "    background-color: var(--disabled-bg-color);\n",
              "    fill: var(--disabled-fill-color);\n",
              "    box-shadow: none;\n",
              "  }\n",
              "\n",
              "  .colab-df-spinner {\n",
              "    border: 2px solid var(--fill-color);\n",
              "    border-color: transparent;\n",
              "    border-bottom-color: var(--fill-color);\n",
              "    animation:\n",
              "      spin 1s steps(1) infinite;\n",
              "  }\n",
              "\n",
              "  @keyframes spin {\n",
              "    0% {\n",
              "      border-color: transparent;\n",
              "      border-bottom-color: var(--fill-color);\n",
              "      border-left-color: var(--fill-color);\n",
              "    }\n",
              "    20% {\n",
              "      border-color: transparent;\n",
              "      border-left-color: var(--fill-color);\n",
              "      border-top-color: var(--fill-color);\n",
              "    }\n",
              "    30% {\n",
              "      border-color: transparent;\n",
              "      border-left-color: var(--fill-color);\n",
              "      border-top-color: var(--fill-color);\n",
              "      border-right-color: var(--fill-color);\n",
              "    }\n",
              "    40% {\n",
              "      border-color: transparent;\n",
              "      border-right-color: var(--fill-color);\n",
              "      border-top-color: var(--fill-color);\n",
              "    }\n",
              "    60% {\n",
              "      border-color: transparent;\n",
              "      border-right-color: var(--fill-color);\n",
              "    }\n",
              "    80% {\n",
              "      border-color: transparent;\n",
              "      border-right-color: var(--fill-color);\n",
              "      border-bottom-color: var(--fill-color);\n",
              "    }\n",
              "    90% {\n",
              "      border-color: transparent;\n",
              "      border-bottom-color: var(--fill-color);\n",
              "    }\n",
              "  }\n",
              "</style>\n",
              "\n",
              "  <script>\n",
              "    async function quickchart(key) {\n",
              "      const quickchartButtonEl =\n",
              "        document.querySelector('#' + key + ' button');\n",
              "      quickchartButtonEl.disabled = true;  // To prevent multiple clicks.\n",
              "      quickchartButtonEl.classList.add('colab-df-spinner');\n",
              "      try {\n",
              "        const charts = await google.colab.kernel.invokeFunction(\n",
              "            'suggestCharts', [key], {});\n",
              "      } catch (error) {\n",
              "        console.error('Error during call to suggestCharts:', error);\n",
              "      }\n",
              "      quickchartButtonEl.classList.remove('colab-df-spinner');\n",
              "      quickchartButtonEl.classList.add('colab-df-quickchart-complete');\n",
              "    }\n",
              "    (() => {\n",
              "      let quickchartButtonEl =\n",
              "        document.querySelector('#df-86373ede-0287-49b1-a736-76d07d47c836 button');\n",
              "      quickchartButtonEl.style.display =\n",
              "        google.colab.kernel.accessAllowed ? 'block' : 'none';\n",
              "    })();\n",
              "  </script>\n",
              "</div>\n",
              "\n",
              "    </div>\n",
              "  </div>\n"
            ],
            "application/vnd.google.colaboratory.intrinsic+json": {
              "type": "dataframe",
              "summary": "{\n  \"name\": \"datos\",\n  \"rows\": 8,\n  \"fields\": [\n    {\n      \"column\": \"Edad\",\n      \"properties\": {\n        \"dtype\": \"number\",\n        \"std\": 1402.002510912549,\n        \"min\": 11.919079121802106,\n        \"max\": 4000.0,\n        \"num_unique_values\": 8,\n        \"samples\": [\n          38.663,\n          38.0,\n          4000.0\n        ],\n        \"semantic_type\": \"\",\n        \"description\": \"\"\n      }\n    },\n    {\n      \"column\": \"Anios_En_La_Empresa\",\n      \"properties\": {\n        \"dtype\": \"number\",\n        \"std\": 1410.9395473344944,\n        \"min\": 0.0,\n        \"max\": 4000.0,\n        \"num_unique_values\": 8,\n        \"samples\": [\n          9.4045,\n          10.0,\n          4000.0\n        ],\n        \"semantic_type\": \"\",\n        \"description\": \"\"\n      }\n    },\n    {\n      \"column\": \"Ingreso_Mensual\",\n      \"properties\": {\n        \"dtype\": \"number\",\n        \"std\": 4403.548336687828,\n        \"min\": 2007.0,\n        \"max\": 14989.0,\n        \"num_unique_values\": 8,\n        \"samples\": [\n          8376.622,\n          8444.0,\n          4000.0\n        ],\n        \"semantic_type\": \"\",\n        \"description\": \"\"\n      }\n    },\n    {\n      \"column\": \"Satisfaccion_Laboral\",\n      \"properties\": {\n        \"dtype\": \"number\",\n        \"std\": 1413.380313115216,\n        \"min\": 0.0,\n        \"max\": 4000.0,\n        \"num_unique_values\": 8,\n        \"samples\": [\n          2.17125,\n          2.0,\n          4000.0\n        ],\n        \"semantic_type\": \"\",\n        \"description\": \"\"\n      }\n    },\n    {\n      \"column\": \"Balance_Vida_Trabajo\",\n      \"properties\": {\n        \"dtype\": \"number\",\n        \"std\": 1413.3776696032487,\n        \"min\": 0.0,\n        \"max\": 4000.0,\n        \"num_unique_values\": 8,\n        \"samples\": [\n          2.176,\n          2.0,\n          4000.0\n        ],\n        \"semantic_type\": \"\",\n        \"description\": \"\"\n      }\n    },\n    {\n      \"column\": \"Anios_Desde_Ultima_Promocion\",\n      \"properties\": {\n        \"dtype\": \"number\",\n        \"std\": 1412.6550084595883,\n        \"min\": 0.0,\n        \"max\": 4000.0,\n        \"num_unique_values\": 8,\n        \"samples\": [\n          4.08925,\n          4.0,\n          4000.0\n        ],\n        \"semantic_type\": \"\",\n        \"description\": \"\"\n      }\n    },\n    {\n      \"column\": \"Veces_Entrenamiento_Ano\",\n      \"properties\": {\n        \"dtype\": \"number\",\n        \"std\": 1412.6460529174974,\n        \"min\": 0.0,\n        \"max\": 4000.0,\n        \"num_unique_values\": 8,\n        \"samples\": [\n          4.3145,\n          4.0,\n          4000.0\n        ],\n        \"semantic_type\": \"\",\n        \"description\": \"\"\n      }\n    }\n  ]\n}"
            }
          },
          "metadata": {},
          "execution_count": 6
        }
      ]
    },
    {
      "cell_type": "markdown",
      "source": [
        "## **3.1 Distribución de la Variable Objetivo**\n",
        "La variable objetivo en este caso es **`Rotacion`**, que indica si un empleado dejó la organización o no. Visualizaremos la distribución de esta variable.\n"
      ],
      "metadata": {
        "id": "87A_0J97kLxV"
      }
    },
    {
      "cell_type": "code",
      "source": [
        "# Conteo de valores únicos en la variable objetivo\n",
        "print(\"Distribución de la variable 'Rotacion':\")\n",
        "print(datos['Rotacion'].value_counts())"
      ],
      "metadata": {
        "colab": {
          "base_uri": "https://localhost:8080/"
        },
        "id": "KSUvcqaAkPIc",
        "outputId": "5b8228f2-14a8-4e17-8f42-4dd479b70211"
      },
      "execution_count": null,
      "outputs": [
        {
          "output_type": "stream",
          "name": "stdout",
          "text": [
            "Distribución de la variable 'Rotacion':\n",
            "Rotacion\n",
            "No     3166\n",
            "Yes     834\n",
            "Name: count, dtype: int64\n"
          ]
        }
      ]
    },
    {
      "cell_type": "code",
      "source": [
        "# Visualización de la distribución\n",
        "sns.countplot(data=datos, x='Rotacion')\n",
        "plt.title(\"Distribución de la Variable Objetivo: Rotación\")\n",
        "plt.xlabel(\"Rotación\")\n",
        "plt.ylabel(\"Cantidad\")\n",
        "plt.show()"
      ],
      "metadata": {
        "colab": {
          "base_uri": "https://localhost:8080/",
          "height": 472
        },
        "id": "GZDrgvWBkQ2t",
        "outputId": "30ad4e81-79a0-47d4-d04c-afcdda4c652b"
      },
      "execution_count": null,
      "outputs": [
        {
          "output_type": "display_data",
          "data": {
            "text/plain": [
              "<Figure size 640x480 with 1 Axes>"
            ],
            "image/png": "[encoded data removed]"
          },
          "metadata": {}
        }
      ]
    },
    {
      "cell_type": "markdown",
      "source": [
        "## **3.2 Insights y Observaciones (Sección 3)**\n",
        "\n",
        "- **Balance de clases:** la variable *Rotación* está desbalanceada (84% No vs 16% Yes) → aplicar técnicas de oversampling (SMOTE), undersampling o ajuste de pesos en modelos.  \n",
        "- **Escalas diferentes:** variables como *Ingreso_Mensual* tienen rangos muy amplios frente a *Satisfacción Laboral* → normalizar o estandarizar para algoritmos sensibles a escala.  \n",
        "- **Codificación de categóricas:** columnas como *Departamento, Rol_Trabajo, Género, Horas_Extras* requieren encoding adecuado (One-Hot o Label Encoding según el modelo).  \n",
        "- **Generación de nuevas variables:** combinar *Edad* y *Años en la Empresa* (ej. Edad de ingreso) o derivar ratios como *Ingreso/Años en la Empresa* para enriquecer el análisis.  \n",
        "- **Correlación y relevancia de variables:** calcular matriz de correlación (numéricas) y test Chi-cuadrado (categóricas) para identificar los factores más influyentes en la rotación.  \n",
        "- **Visualizaciones adicionales:** explorar la rotación por **departamento, género y horas extras** para obtener insights prácticos antes del modelado.\n"
      ],
      "metadata": {
        "id": "utIUJY470_KT"
      }
    },
    {
      "cell_type": "markdown",
      "source": [
        "# **4. Análisis Exploratorio de Datos (EDA)**\n",
        "En esta sección, realizaremos un análisis exploratorio para visualizar y comprender mejor las características del dataset y sus relaciones con la variable objetivo.\n",
        "\n",
        "## **4.1 Visualización de Distribuciones de Variables Relevantes**\n",
        "Comenzaremos con la visualización de las distribuciones de variables numéricas y categóricas para identificar patrones iniciales.\n",
        "\n",
        "####**Histogramas para Variables Numéricas**\n",
        "Analizaremos variables como **Ingreso_Mensual** y **Anios_En_La_Empresa**.\n"
      ],
      "metadata": {
        "id": "B3xySrIelQK0"
      }
    },
    {
      "cell_type": "code",
      "source": [
        "# Histograma del ingreso mensual\n",
        "sns.histplot(datos['Ingreso_Mensual'], kde=True, color='blue')\n",
        "plt.title(\"Distribución del Ingreso Mensual\")\n",
        "plt.xlabel(\"Ingreso Mensual\")\n",
        "plt.ylabel(\"Frecuencia\")\n",
        "plt.show()"
      ],
      "metadata": {
        "colab": {
          "base_uri": "https://localhost:8080/",
          "height": 472
        },
        "id": "NkvWjGl1lPI8",
        "outputId": "ec8eacae-a07b-4081-c58f-32d673f2b849"
      },
      "execution_count": null,
      "outputs": [
        {
          "output_type": "display_data",
          "data": {
            "text/plain": [
              "<Figure size 640x480 with 1 Axes>"
            ],
            "image/png": "[encoded data removed]"
          },
          "metadata": {}
        }
      ]
    },
    {
      "cell_type": "code",
      "source": [
        "# Histograma de los años en la empresa\n",
        "sns.histplot(datos['Anios_En_La_Empresa'], kde=True, color='green')\n",
        "plt.title(\"Distribución de los Años en la Empresa\")\n",
        "plt.xlabel(\"Años en la Empresa\")\n",
        "plt.ylabel(\"Frecuencia\")\n",
        "plt.show()"
      ],
      "metadata": {
        "colab": {
          "base_uri": "https://localhost:8080/",
          "height": 472
        },
        "id": "TBrCbiNwlaF0",
        "outputId": "4a234434-6c96-49c6-db85-3bab759c339a"
      },
      "execution_count": null,
      "outputs": [
        {
          "output_type": "display_data",
          "data": {
            "text/plain": [
              "<Figure size 640x480 with 1 Axes>"
            ],
            "image/png": "[encoded data removed]"
          },
          "metadata": {}
        }
      ]
    },
    {
      "cell_type": "markdown",
      "source": [
        "## **Gráficos de Barras para Variables Categóricas**\n",
        "Visualizaremos variables como **Departamento** y **Rol_Trabajo**."
      ],
      "metadata": {
        "id": "BtJEwLgvlcpM"
      }
    },
    {
      "cell_type": "code",
      "source": [
        "# Gráfico de barras por departamento\n",
        "sns.countplot(data=datos, x='Departamento')\n",
        "plt.title(\"Distribución por Departamento\")\n",
        "plt.xlabel(\"Departamento\")\n",
        "plt.ylabel(\"Cantidad\")\n",
        "plt.show()"
      ],
      "metadata": {
        "colab": {
          "base_uri": "https://localhost:8080/",
          "height": 472
        },
        "id": "sKdUdcr4leJ0",
        "outputId": "a60fd82c-b3ee-49f8-af58-cf917d91778e"
      },
      "execution_count": null,
      "outputs": [
        {
          "output_type": "display_data",
          "data": {
            "text/plain": [
              "<Figure size 640x480 with 1 Axes>"
            ],
            "image/png": "[encoded data removed]"
          },
          "metadata": {}
        }
      ]
    },
    {
      "cell_type": "code",
      "source": [
        "# Gráfico de barras por rol de trabajo\n",
        "sns.countplot(data=datos, x='Rol_Trabajo')\n",
        "plt.title(\"Distribución por Rol de Trabajo\")\n",
        "plt.xlabel(\"Rol de Trabajo\")\n",
        "plt.ylabel(\"Cantidad\")\n",
        "plt.show()"
      ],
      "metadata": {
        "colab": {
          "base_uri": "https://localhost:8080/",
          "height": 472
        },
        "id": "-Bq0gr3tlgzs",
        "outputId": "1cbd4fb5-286f-490b-92d5-c44a62621b16"
      },
      "execution_count": null,
      "outputs": [
        {
          "output_type": "display_data",
          "data": {
            "text/plain": [
              "<Figure size 640x480 with 1 Axes>"
            ],
            "image/png": "[encoded data removed]"
          },
          "metadata": {}
        }
      ]
    },
    {
      "cell_type": "markdown",
      "source": [
        "## **4.2 Análisis de Correlación entre Variables Numéricas**\n",
        "Calcularemos una matriz de correlación para identificar relaciones entre variables numéricas."
      ],
      "metadata": {
        "id": "VTIsetJBlsxs"
      }
    },
    {
      "cell_type": "code",
      "source": [
        "# Seleccionar solo columnas numéricas\n",
        "datos_numericos = datos.select_dtypes(include=['float64', 'int64'])\n",
        "\n",
        "# Matriz de correlación\n",
        "correlacion = datos_numericos.corr()\n",
        "\n",
        "# Mapa de calor de correlación\n",
        "sns.heatmap(correlacion, annot=True, cmap='coolwarm', fmt=\".2f\")\n",
        "plt.title(\"Matriz de Correlación\")\n",
        "plt.show()"
      ],
      "metadata": {
        "colab": {
          "base_uri": "https://localhost:8080/",
          "height": 659
        },
        "id": "6D4Y4QwelwXU",
        "outputId": "958bb8b5-f3b4-448a-dc42-8174db25c9bc"
      },
      "execution_count": null,
      "outputs": [
        {
          "output_type": "display_data",
          "data": {
            "text/plain": [
              "<Figure size 640x480 with 2 Axes>"
            ],
            "image/png": "[encoded data removed]"
          },
          "metadata": {}
        }
      ]
    },
    {
      "cell_type": "markdown",
      "source": [
        "## **4.3 Relación entre Características y la Variable Objetivo**\n",
        "Analizaremos cómo las características afectan a la rotación.\n"
      ],
      "metadata": {
        "id": "lafKq_d2mJpU"
      }
    },
    {
      "cell_type": "markdown",
      "source": [
        "Comparación de Métricas entre Empleados que Dejaron y los que No"
      ],
      "metadata": {
        "id": "9qQNR_PXmNJc"
      }
    },
    {
      "cell_type": "code",
      "source": [
        "# Boxplot del ingreso mensual por rotación\n",
        "sns.boxplot(data=datos, x='Rotacion', y='Ingreso_Mensual')\n",
        "plt.title(\"Ingreso Mensual vs Rotación\")\n",
        "plt.xlabel(\"Rotación\")\n",
        "plt.ylabel(\"Ingreso Mensual\")\n",
        "plt.show()"
      ],
      "metadata": {
        "colab": {
          "base_uri": "https://localhost:8080/",
          "height": 472
        },
        "id": "ocgGjA7ImQYM",
        "outputId": "1fa7c830-a60a-43cc-c8b5-98bc2c45a902"
      },
      "execution_count": null,
      "outputs": [
        {
          "output_type": "display_data",
          "data": {
            "text/plain": [
              "<Figure size 640x480 with 1 Axes>"
            ],
            "image/png": "[encoded data removed]"
          },
          "metadata": {}
        }
      ]
    },
    {
      "cell_type": "code",
      "source": [
        "# Boxplot de los años en la empresa por rotación\n",
        "sns.boxplot(data=datos, x='Rotacion', y='Anios_En_La_Empresa')\n",
        "plt.title(\"Años en la Empresa vs Rotación\")\n",
        "plt.xlabel(\"Rotación\")\n",
        "plt.ylabel(\"Años en la Empresa\")\n",
        "plt.show()"
      ],
      "metadata": {
        "id": "Wonr6akEmLm8",
        "colab": {
          "base_uri": "https://localhost:8080/",
          "height": 472
        },
        "outputId": "104039ea-4757-4e41-9081-94cf456c499a"
      },
      "execution_count": null,
      "outputs": [
        {
          "output_type": "display_data",
          "data": {
            "text/plain": [
              "<Figure size 640x480 with 1 Axes>"
            ],
            "image/png": "[encoded data removed]"
          },
          "metadata": {}
        }
      ]
    },
    {
      "cell_type": "markdown",
      "source": [
        "## **4.4 Insights y Observaciones (Sección 4)**\n",
        "\n",
        "\n",
        "- **Distribuciones numéricas:** tanto *Ingreso Mensual* como *Años en la Empresa* muestran dispersión amplia → podría ser necesario aplicar **escalado o transformación logarítmica** en el preprocesamiento.  \n",
        "- **Variables categóricas balanceadas:** los departamentos y roles tienen una distribución relativamente uniforme, lo que reduce riesgo de sesgo → pero conviene hacer **encoding con cuidado** para no inflar dimensionalidad.  \n",
        "- **Correlaciones bajas:** no hay correlaciones fuertes entre variables numéricas.\n",
        "- **Relación con la rotación:** los boxplots sugieren que *Ingreso Mensual* y *Años en la Empresa* no presentan diferencias drásticas entre empleados que rotaron y los que no → se podrían explorar **interacciones de variables** (ej. Ingreso × Satisfacción Laboral).  \n"
      ],
      "metadata": {
        "id": "dNEdJwDH2Fdr"
      }
    },
    {
      "cell_type": "markdown",
      "source": [
        "# **5. Preprocesamiento de Datos**\n",
        "El preprocesamiento es una etapa crucial para garantizar que los datos estén en un formato adecuado para entrenar modelos de Machine Learning. En esta sección, realizaremos varias tareas clave de preprocesamiento.\n",
        "\n",
        "## **5.1 Manejo de Valores Nulos**\n",
        "Identificaremos y trataremos los valores nulos presentes en el dataset."
      ],
      "metadata": {
        "id": "aFF2-HvonuZs"
      }
    },
    {
      "cell_type": "code",
      "source": [
        "# Manejo de valores nulos\n",
        "print(\"\\nValores nulos por columna antes del manejo:\")\n",
        "print(datos.isnull().sum())"
      ],
      "metadata": {
        "colab": {
          "base_uri": "https://localhost:8080/"
        },
        "id": "DNDYWyMymM9E",
        "outputId": "1dacdc66-56d4-4d45-be65-a61769180592"
      },
      "execution_count": null,
      "outputs": [
        {
          "output_type": "stream",
          "name": "stdout",
          "text": [
            "\n",
            "Valores nulos por columna antes del manejo:\n",
            "ID_Empleado                     0\n",
            "Edad                            0\n",
            "Genero                          0\n",
            "Departamento                    0\n",
            "Anios_En_La_Empresa             0\n",
            "Ingreso_Mensual                 0\n",
            "Satisfaccion_Laboral            0\n",
            "Balance_Vida_Trabajo            0\n",
            "Horas_Extras                    0\n",
            "Rol_Trabajo                     0\n",
            "Anios_Desde_Ultima_Promocion    0\n",
            "Veces_Entrenamiento_Ano         0\n",
            "Rotacion                        0\n",
            "dtype: int64\n"
          ]
        }
      ]
    },
    {
      "cell_type": "markdown",
      "source": [
        "Debido a que no hay valores nulos saltaremos al siguiente punto"
      ],
      "metadata": {
        "id": "_-9ncs1LnzhL"
      }
    },
    {
      "cell_type": "markdown",
      "source": [
        "## **5.2 Transformación de Variables Categóricas**\n",
        "Convertiremos las variables categóricas en un formato numérico mediante codificación."
      ],
      "metadata": {
        "id": "IEXNxG5rn9ED"
      }
    },
    {
      "cell_type": "code",
      "source": [
        "# Codificación con Label Encoding para simplificar\n",
        "label_cols = ['Genero', 'Departamento', 'Horas_Extras', 'Rol_Trabajo', 'Rotacion']\n",
        "encoder = LabelEncoder()\n",
        "for col in label_cols:\n",
        "    datos[col] = encoder.fit_transform(datos[col])"
      ],
      "metadata": {
        "id": "ECCieg3FmKVc"
      },
      "execution_count": null,
      "outputs": []
    },
    {
      "cell_type": "markdown",
      "source": [
        "## **5.3 Escalado de Variables Numéricas**\n",
        "Estandarizaremos las variables numéricas para que todas tengan la misma escala.\n"
      ],
      "metadata": {
        "id": "vbGD81EuoOB8"
      }
    },
    {
      "cell_type": "code",
      "source": [
        "# Variables a escalar\n",
        "scaler = StandardScaler()\n",
        "num_cols = ['Ingreso_Mensual', 'Anios_En_La_Empresa', 'Anios_Desde_Ultima_Promocion', 'Veces_Entrenamiento_Ano']\n",
        "datos[num_cols] = scaler.fit_transform(datos[num_cols])"
      ],
      "metadata": {
        "id": "0kekVrkgoQxT"
      },
      "execution_count": null,
      "outputs": []
    },
    {
      "cell_type": "markdown",
      "source": [
        "## **5.4 División del Dataset**\n",
        "Separaremos los datos en conjuntos de entrenamiento y prueba.\n"
      ],
      "metadata": {
        "id": "1pxT9oL-oRwM"
      }
    },
    {
      "cell_type": "code",
      "source": [
        "# División de datos en características (X) y variable objetivo (y)\n",
        "X = datos.drop(columns=['ID_Empleado', 'Rotacion'])\n",
        "y = datos['Rotacion']"
      ],
      "metadata": {
        "id": "XZVHE5vmoUtc"
      },
      "execution_count": null,
      "outputs": []
    },
    {
      "cell_type": "code",
      "source": [
        "# División en conjunto de entrenamiento y prueba\n",
        "X_train, X_test, y_train, y_test = train_test_split(X, y, test_size=0.2, random_state=42)"
      ],
      "metadata": {
        "id": "Wq9gUgdDoYHE"
      },
      "execution_count": null,
      "outputs": []
    },
    {
      "cell_type": "code",
      "source": [
        "# Verificar las dimensiones\n",
        "print(f\"Dimensiones del conjunto de entrenamiento: {X_train.shape}\")\n",
        "print(f\"Dimensiones del conjunto de prueba: {X_test.shape}\")"
      ],
      "metadata": {
        "colab": {
          "base_uri": "https://localhost:8080/"
        },
        "id": "vvIQuszDoYdM",
        "outputId": "0305a986-d9e8-4107-fed4-df4ebc42c33e"
      },
      "execution_count": null,
      "outputs": [
        {
          "output_type": "stream",
          "name": "stdout",
          "text": [
            "Dimensiones del conjunto de entrenamiento: (3200, 11)\n",
            "Dimensiones del conjunto de prueba: (800, 11)\n"
          ]
        }
      ]
    },
    {
      "cell_type": "markdown",
      "source": [
        "## **5.5 Insights y Observaciones (Sección 5)**\n",
        "\n",
        "- **Valores nulos:** No se identificaron valores faltantes en ninguna variable, lo que facilita el entrenamiento del modelo sin necesidad de imputaciones adicionales.  \n",
        "- **Variables categóricas:** Se transformaron en formato numérico mediante *Label Encoding*, permitiendo que los algoritmos puedan procesarlas. Esto asegura que variables como `Genero`, `Departamento` y `Rol_Trabajo` puedan ser utilizadas en el modelo.  \n",
        "- **Escalado de numéricas:** Variables como `Ingreso_Mensual`, `Anios_En_La_Empresa` y `Veces_Entrenamiento_Ano` fueron estandarizadas, garantizando que todas estén en la misma escala y evitando que unas dominen sobre otras en el proceso de aprendizaje.  \n",
        "- **División del dataset:** El dataset se dividió en un 80% para entrenamiento y un 20% para prueba, con 3200 registros en entrenamiento y 800 en prueba. Esto permite evaluar de manera confiable el desempeño del modelo.  \n",
        "- **Balance de clases:** Aunque la variable objetivo `Rotacion` se encuentra desbalanceada (más casos de \"No\" que de \"Yes\"), este aspecto se tendrá en cuenta en la etapa de modelado para aplicar técnicas que mitiguen este efecto.\n"
      ],
      "metadata": {
        "id": "31umaQUs5RnI"
      }
    },
    {
      "cell_type": "markdown",
      "source": [
        "## **6. Construcción del Modelo Predictivo**\n",
        "En esta sección, implementaremos árboles de Decisión y regresión logística para predecir la rotación de empleados.\n",
        "\n"
      ],
      "metadata": {
        "id": "0QkWv9C-pcRD"
      }
    },
    {
      "cell_type": "markdown",
      "source": [
        "## **6.1 Árboles de Decisión**\n",
        "\n",
        "Los árboles de decisión son algoritmos de aprendizaje supervisado que se utilizan tanto para problemas de clasificación como de regresión. Su funcionamiento se basa en dividir el espacio de características en regiones homogéneas según la variable objetivo.\n",
        "\n",
        "### **Ventajas de los Árboles de Decisión**\n",
        "- **Interpretabilidad**: Los árboles de decisión son fáciles de entender y explicar, incluso para personas sin experiencia técnica.\n",
        "- **No requiere normalización**: A diferencia de otros modelos, no es necesario escalar las variables.\n",
        "- **Soporte para datos mixtos**: Puede manejar tanto variables categóricas como numéricas.\n",
        "- **Detección automática de interacciones**: Captura automáticamente las interacciones entre las variables.\n",
        "\n",
        "### **Conceptos Clave**\n",
        "1. **Nodos**:\n",
        "   - **Nodo Raíz**: Representa el conjunto completo de datos.\n",
        "   - **Nodos Intermedios**: Son divisiones basadas en condiciones sobre las características.\n",
        "   - **Hojas**: Representan las predicciones finales del modelo.\n",
        "\n",
        "2. **Criterios de División**:\n",
        "   - **Gini**: Mide la impureza en un nodo (valores cercanos a 0 son ideales).\n",
        "   - **Entropía**: Utiliza la teoría de la información para dividir los datos.\n",
        "   - **Error Cuadrático Medio (MSE)**: Se usa para problemas de regresión.\n",
        "\n",
        "3. **Profundidad del Árbol**:\n",
        "   - Controla la complejidad del modelo.\n",
        "   - Un árbol muy profundo puede sobreajustar los datos (memorizar).\n",
        "   - Un árbol muy poco profundo puede subajustar (generalizar mal).\n",
        "\n",
        "### **Importancia de las Características**\n",
        "Los árboles de decisión calculan la importancia de las características basándose en cómo contribuyen a reducir la impureza (Gini o Entropía) en cada división. Estas importancias pueden ser útiles para interpretar qué variables son más relevantes para el modelo.\n",
        "\n"
      ],
      "metadata": {
        "id": "0qOxjsQJuFml"
      }
    },
    {
      "cell_type": "markdown",
      "source": [
        "### **6.1.1 Entrenamiento del Modelo**\n",
        "Entrenaremos el modelo de árboles de Decisión utilizando el conjunto de datos preprocesado."
      ],
      "metadata": {
        "id": "G9AJEhyxpfXj"
      }
    },
    {
      "cell_type": "code",
      "source": [
        "# Inicializar el modelo de arboles de decisión\n",
        "decision_tree = DecisionTreeClassifier(random_state=42, class_weight='balanced')"
      ],
      "metadata": {
        "id": "QGVISfhspnLj"
      },
      "execution_count": null,
      "outputs": []
    },
    {
      "cell_type": "code",
      "source": [
        "# Entrenar el modelo con los datos de entrenamiento\n",
        "decision_tree.fit(X_train, y_train)"
      ],
      "metadata": {
        "colab": {
          "base_uri": "https://localhost:8080/",
          "height": 80
        },
        "id": "_P6MMFDQpowb",
        "outputId": "8f5e41b4-446d-496c-e401-81d88f7b8db0"
      },
      "execution_count": null,
      "outputs": [
        {
          "output_type": "execute_result",
          "data": {
            "text/plain": [
              "DecisionTreeClassifier(class_weight='balanced', random_state=42)"
            ],
            "text/html": [
              "<style>#sk-container-id-1 {\n",
              "  /* Definition of color scheme common for light and dark mode */\n",
              "  --sklearn-color-text: #000;\n",
              "  --sklearn-color-text-muted: #666;\n",
              "  --sklearn-color-line: gray;\n",
              "  /* Definition of color scheme for unfitted estimators */\n",
              "  --sklearn-color-unfitted-level-0: #fff5e6;\n",
              "  --sklearn-color-unfitted-level-1: #f6e4d2;\n",
              "  --sklearn-color-unfitted-level-2: #ffe0b3;\n",
              "  --sklearn-color-unfitted-level-3: chocolate;\n",
              "  /* Definition of color scheme for fitted estimators */\n",
              "  --sklearn-color-fitted-level-0: #f0f8ff;\n",
              "  --sklearn-color-fitted-level-1: #d4ebff;\n",
              "  --sklearn-color-fitted-level-2: #b3dbfd;\n",
              "  --sklearn-color-fitted-level-3: cornflowerblue;\n",
              "\n",
              "  /* Specific color for light theme */\n",
              "  --sklearn-color-text-on-default-background: var(--sg-text-color, var(--theme-code-foreground, var(--jp-content-font-color1, black)));\n",
              "  --sklearn-color-background: var(--sg-background-color, var(--theme-background, var(--jp-layout-color0, white)));\n",
              "  --sklearn-color-border-box: var(--sg-text-color, var(--theme-code-foreground, var(--jp-content-font-color1, black)));\n",
              "  --sklearn-color-icon: #696969;\n",
              "\n",
              "  @media (prefers-color-scheme: dark) {\n",
              "    /* Redefinition of color scheme for dark theme */\n",
              "    --sklearn-color-text-on-default-background: var(--sg-text-color, var(--theme-code-foreground, var(--jp-content-font-color1, white)));\n",
              "    --sklearn-color-background: var(--sg-background-color, var(--theme-background, var(--jp-layout-color0, #111)));\n",
              "    --sklearn-color-border-box: var(--sg-text-color, var(--theme-code-foreground, var(--jp-content-font-color1, white)));\n",
              "    --sklearn-color-icon: #878787;\n",
              "  }\n",
              "}\n",
              "\n",
              "#sk-container-id-1 {\n",
              "  color: var(--sklearn-color-text);\n",
              "}\n",
              "\n",
              "#sk-container-id-1 pre {\n",
              "  padding: 0;\n",
              "}\n",
              "\n",
              "#sk-container-id-1 input.sk-hidden--visually {\n",
              "  border: 0;\n",
              "  clip: rect(1px 1px 1px 1px);\n",
              "  clip: rect(1px, 1px, 1px, 1px);\n",
              "  height: 1px;\n",
              "  margin: -1px;\n",
              "  overflow: hidden;\n",
              "  padding: 0;\n",
              "  position: absolute;\n",
              "  width: 1px;\n",
              "}\n",
              "\n",
              "#sk-container-id-1 div.sk-dashed-wrapped {\n",
              "  border: 1px dashed var(--sklearn-color-line);\n",
              "  margin: 0 0.4em 0.5em 0.4em;\n",
              "  box-sizing: border-box;\n",
              "  padding-bottom: 0.4em;\n",
              "  background-color: var(--sklearn-color-background);\n",
              "}\n",
              "\n",
              "#sk-container-id-1 div.sk-container {\n",
              "  /* jupyter's `normalize.less` sets `[hidden] { display: none; }`\n",
              "     but bootstrap.min.css set `[hidden] { display: none !important; }`\n",
              "     so we also need the `!important` here to be able to override the\n",
              "     default hidden behavior on the sphinx rendered scikit-learn.org.\n",
              "     See: https://github.com/scikit-learn/scikit-learn/issues/21755 */\n",
              "  display: inline-block !important;\n",
              "  position: relative;\n",
              "}\n",
              "\n",
              "#sk-container-id-1 div.sk-text-repr-fallback {\n",
              "  display: none;\n",
              "}\n",
              "\n",
              "div.sk-parallel-item,\n",
              "div.sk-serial,\n",
              "div.sk-item {\n",
              "  /* draw centered vertical line to link estimators */\n",
              "  background-image: linear-gradient(var(--sklearn-color-text-on-default-background), var(--sklearn-color-text-on-default-background));\n",
              "  background-size: 2px 100%;\n",
              "  background-repeat: no-repeat;\n",
              "  background-position: center center;\n",
              "}\n",
              "\n",
              "/* Parallel-specific style estimator block */\n",
              "\n",
              "#sk-container-id-1 div.sk-parallel-item::after {\n",
              "  content: \"\";\n",
              "  width: 100%;\n",
              "  border-bottom: 2px solid var(--sklearn-color-text-on-default-background);\n",
              "  flex-grow: 1;\n",
              "}\n",
              "\n",
              "#sk-container-id-1 div.sk-parallel {\n",
              "  display: flex;\n",
              "  align-items: stretch;\n",
              "  justify-content: center;\n",
              "  background-color: var(--sklearn-color-background);\n",
              "  position: relative;\n",
              "}\n",
              "\n",
              "#sk-container-id-1 div.sk-parallel-item {\n",
              "  display: flex;\n",
              "  flex-direction: column;\n",
              "}\n",
              "\n",
              "#sk-container-id-1 div.sk-parallel-item:first-child::after {\n",
              "  align-self: flex-end;\n",
              "  width: 50%;\n",
              "}\n",
              "\n",
              "#sk-container-id-1 div.sk-parallel-item:last-child::after {\n",
              "  align-self: flex-start;\n",
              "  width: 50%;\n",
              "}\n",
              "\n",
              "#sk-container-id-1 div.sk-parallel-item:only-child::after {\n",
              "  width: 0;\n",
              "}\n",
              "\n",
              "/* Serial-specific style estimator block */\n",
              "\n",
              "#sk-container-id-1 div.sk-serial {\n",
              "  display: flex;\n",
              "  flex-direction: column;\n",
              "  align-items: center;\n",
              "  background-color: var(--sklearn-color-background);\n",
              "  padding-right: 1em;\n",
              "  padding-left: 1em;\n",
              "}\n",
              "\n",
              "\n",
              "/* Toggleable style: style used for estimator/Pipeline/ColumnTransformer box that is\n",
              "clickable and can be expanded/collapsed.\n",
              "- Pipeline and ColumnTransformer use this feature and define the default style\n",
              "- Estimators will overwrite some part of the style using the `sk-estimator` class\n",
              "*/\n",
              "\n",
              "/* Pipeline and ColumnTransformer style (default) */\n",
              "\n",
              "#sk-container-id-1 div.sk-toggleable {\n",
              "  /* Default theme specific background. It is overwritten whether we have a\n",
              "  specific estimator or a Pipeline/ColumnTransformer */\n",
              "  background-color: var(--sklearn-color-background);\n",
              "}\n",
              "\n",
              "/* Toggleable label */\n",
              "#sk-container-id-1 label.sk-toggleable__label {\n",
              "  cursor: pointer;\n",
              "  display: flex;\n",
              "  width: 100%;\n",
              "  margin-bottom: 0;\n",
              "  padding: 0.5em;\n",
              "  box-sizing: border-box;\n",
              "  text-align: center;\n",
              "  align-items: start;\n",
              "  justify-content: space-between;\n",
              "  gap: 0.5em;\n",
              "}\n",
              "\n",
              "#sk-container-id-1 label.sk-toggleable__label .caption {\n",
              "  font-size: 0.6rem;\n",
              "  font-weight: lighter;\n",
              "  color: var(--sklearn-color-text-muted);\n",
              "}\n",
              "\n",
              "#sk-container-id-1 label.sk-toggleable__label-arrow:before {\n",
              "  /* Arrow on the left of the label */\n",
              "  content: \"▸\";\n",
              "  float: left;\n",
              "  margin-right: 0.25em;\n",
              "  color: var(--sklearn-color-icon);\n",
              "}\n",
              "\n",
              "#sk-container-id-1 label.sk-toggleable__label-arrow:hover:before {\n",
              "  color: var(--sklearn-color-text);\n",
              "}\n",
              "\n",
              "/* Toggleable content - dropdown */\n",
              "\n",
              "#sk-container-id-1 div.sk-toggleable__content {\n",
              "  max-height: 0;\n",
              "  max-width: 0;\n",
              "  overflow: hidden;\n",
              "  text-align: left;\n",
              "  /* unfitted */\n",
              "  background-color: var(--sklearn-color-unfitted-level-0);\n",
              "}\n",
              "\n",
              "#sk-container-id-1 div.sk-toggleable__content.fitted {\n",
              "  /* fitted */\n",
              "  background-color: var(--sklearn-color-fitted-level-0);\n",
              "}\n",
              "\n",
              "#sk-container-id-1 div.sk-toggleable__content pre {\n",
              "  margin: 0.2em;\n",
              "  border-radius: 0.25em;\n",
              "  color: var(--sklearn-color-text);\n",
              "  /* unfitted */\n",
              "  background-color: var(--sklearn-color-unfitted-level-0);\n",
              "}\n",
              "\n",
              "#sk-container-id-1 div.sk-toggleable__content.fitted pre {\n",
              "  /* unfitted */\n",
              "  background-color: var(--sklearn-color-fitted-level-0);\n",
              "}\n",
              "\n",
              "#sk-container-id-1 input.sk-toggleable__control:checked~div.sk-toggleable__content {\n",
              "  /* Expand drop-down */\n",
              "  max-height: 200px;\n",
              "  max-width: 100%;\n",
              "  overflow: auto;\n",
              "}\n",
              "\n",
              "#sk-container-id-1 input.sk-toggleable__control:checked~label.sk-toggleable__label-arrow:before {\n",
              "  content: \"▾\";\n",
              "}\n",
              "\n",
              "/* Pipeline/ColumnTransformer-specific style */\n",
              "\n",
              "#sk-container-id-1 div.sk-label input.sk-toggleable__control:checked~label.sk-toggleable__label {\n",
              "  color: var(--sklearn-color-text);\n",
              "  background-color: var(--sklearn-color-unfitted-level-2);\n",
              "}\n",
              "\n",
              "#sk-container-id-1 div.sk-label.fitted input.sk-toggleable__control:checked~label.sk-toggleable__label {\n",
              "  background-color: var(--sklearn-color-fitted-level-2);\n",
              "}\n",
              "\n",
              "/* Estimator-specific style */\n",
              "\n",
              "/* Colorize estimator box */\n",
              "#sk-container-id-1 div.sk-estimator input.sk-toggleable__control:checked~label.sk-toggleable__label {\n",
              "  /* unfitted */\n",
              "  background-color: var(--sklearn-color-unfitted-level-2);\n",
              "}\n",
              "\n",
              "#sk-container-id-1 div.sk-estimator.fitted input.sk-toggleable__control:checked~label.sk-toggleable__label {\n",
              "  /* fitted */\n",
              "  background-color: var(--sklearn-color-fitted-level-2);\n",
              "}\n",
              "\n",
              "#sk-container-id-1 div.sk-label label.sk-toggleable__label,\n",
              "#sk-container-id-1 div.sk-label label {\n",
              "  /* The background is the default theme color */\n",
              "  color: var(--sklearn-color-text-on-default-background);\n",
              "}\n",
              "\n",
              "/* On hover, darken the color of the background */\n",
              "#sk-container-id-1 div.sk-label:hover label.sk-toggleable__label {\n",
              "  color: var(--sklearn-color-text);\n",
              "  background-color: var(--sklearn-color-unfitted-level-2);\n",
              "}\n",
              "\n",
              "/* Label box, darken color on hover, fitted */\n",
              "#sk-container-id-1 div.sk-label.fitted:hover label.sk-toggleable__label.fitted {\n",
              "  color: var(--sklearn-color-text);\n",
              "  background-color: var(--sklearn-color-fitted-level-2);\n",
              "}\n",
              "\n",
              "/* Estimator label */\n",
              "\n",
              "#sk-container-id-1 div.sk-label label {\n",
              "  font-family: monospace;\n",
              "  font-weight: bold;\n",
              "  display: inline-block;\n",
              "  line-height: 1.2em;\n",
              "}\n",
              "\n",
              "#sk-container-id-1 div.sk-label-container {\n",
              "  text-align: center;\n",
              "}\n",
              "\n",
              "/* Estimator-specific */\n",
              "#sk-container-id-1 div.sk-estimator {\n",
              "  font-family: monospace;\n",
              "  border: 1px dotted var(--sklearn-color-border-box);\n",
              "  border-radius: 0.25em;\n",
              "  box-sizing: border-box;\n",
              "  margin-bottom: 0.5em;\n",
              "  /* unfitted */\n",
              "  background-color: var(--sklearn-color-unfitted-level-0);\n",
              "}\n",
              "\n",
              "#sk-container-id-1 div.sk-estimator.fitted {\n",
              "  /* fitted */\n",
              "  background-color: var(--sklearn-color-fitted-level-0);\n",
              "}\n",
              "\n",
              "/* on hover */\n",
              "#sk-container-id-1 div.sk-estimator:hover {\n",
              "  /* unfitted */\n",
              "  background-color: var(--sklearn-color-unfitted-level-2);\n",
              "}\n",
              "\n",
              "#sk-container-id-1 div.sk-estimator.fitted:hover {\n",
              "  /* fitted */\n",
              "  background-color: var(--sklearn-color-fitted-level-2);\n",
              "}\n",
              "\n",
              "/* Specification for estimator info (e.g. \"i\" and \"?\") */\n",
              "\n",
              "/* Common style for \"i\" and \"?\" */\n",
              "\n",
              ".sk-estimator-doc-link,\n",
              "a:link.sk-estimator-doc-link,\n",
              "a:visited.sk-estimator-doc-link {\n",
              "  float: right;\n",
              "  font-size: smaller;\n",
              "  line-height: 1em;\n",
              "  font-family: monospace;\n",
              "  background-color: var(--sklearn-color-background);\n",
              "  border-radius: 1em;\n",
              "  height: 1em;\n",
              "  width: 1em;\n",
              "  text-decoration: none !important;\n",
              "  margin-left: 0.5em;\n",
              "  text-align: center;\n",
              "  /* unfitted */\n",
              "  border: var(--sklearn-color-unfitted-level-1) 1pt solid;\n",
              "  color: var(--sklearn-color-unfitted-level-1);\n",
              "}\n",
              "\n",
              ".sk-estimator-doc-link.fitted,\n",
              "a:link.sk-estimator-doc-link.fitted,\n",
              "a:visited.sk-estimator-doc-link.fitted {\n",
              "  /* fitted */\n",
              "  border: var(--sklearn-color-fitted-level-1) 1pt solid;\n",
              "  color: var(--sklearn-color-fitted-level-1);\n",
              "}\n",
              "\n",
              "/* On hover */\n",
              "div.sk-estimator:hover .sk-estimator-doc-link:hover,\n",
              ".sk-estimator-doc-link:hover,\n",
              "div.sk-label-container:hover .sk-estimator-doc-link:hover,\n",
              ".sk-estimator-doc-link:hover {\n",
              "  /* unfitted */\n",
              "  background-color: var(--sklearn-color-unfitted-level-3);\n",
              "  color: var(--sklearn-color-background);\n",
              "  text-decoration: none;\n",
              "}\n",
              "\n",
              "div.sk-estimator.fitted:hover .sk-estimator-doc-link.fitted:hover,\n",
              ".sk-estimator-doc-link.fitted:hover,\n",
              "div.sk-label-container:hover .sk-estimator-doc-link.fitted:hover,\n",
              ".sk-estimator-doc-link.fitted:hover {\n",
              "  /* fitted */\n",
              "  background-color: var(--sklearn-color-fitted-level-3);\n",
              "  color: var(--sklearn-color-background);\n",
              "  text-decoration: none;\n",
              "}\n",
              "\n",
              "/* Span, style for the box shown on hovering the info icon */\n",
              ".sk-estimator-doc-link span {\n",
              "  display: none;\n",
              "  z-index: 9999;\n",
              "  position: relative;\n",
              "  font-weight: normal;\n",
              "  right: .2ex;\n",
              "  padding: .5ex;\n",
              "  margin: .5ex;\n",
              "  width: min-content;\n",
              "  min-width: 20ex;\n",
              "  max-width: 50ex;\n",
              "  color: var(--sklearn-color-text);\n",
              "  box-shadow: 2pt 2pt 4pt #999;\n",
              "  /* unfitted */\n",
              "  background: var(--sklearn-color-unfitted-level-0);\n",
              "  border: .5pt solid var(--sklearn-color-unfitted-level-3);\n",
              "}\n",
              "\n",
              ".sk-estimator-doc-link.fitted span {\n",
              "  /* fitted */\n",
              "  background: var(--sklearn-color-fitted-level-0);\n",
              "  border: var(--sklearn-color-fitted-level-3);\n",
              "}\n",
              "\n",
              ".sk-estimator-doc-link:hover span {\n",
              "  display: block;\n",
              "}\n",
              "\n",
              "/* \"?\"-specific style due to the `<a>` HTML tag */\n",
              "\n",
              "#sk-container-id-1 a.estimator_doc_link {\n",
              "  float: right;\n",
              "  font-size: 1rem;\n",
              "  line-height: 1em;\n",
              "  font-family: monospace;\n",
              "  background-color: var(--sklearn-color-background);\n",
              "  border-radius: 1rem;\n",
              "  height: 1rem;\n",
              "  width: 1rem;\n",
              "  text-decoration: none;\n",
              "  /* unfitted */\n",
              "  color: var(--sklearn-color-unfitted-level-1);\n",
              "  border: var(--sklearn-color-unfitted-level-1) 1pt solid;\n",
              "}\n",
              "\n",
              "#sk-container-id-1 a.estimator_doc_link.fitted {\n",
              "  /* fitted */\n",
              "  border: var(--sklearn-color-fitted-level-1) 1pt solid;\n",
              "  color: var(--sklearn-color-fitted-level-1);\n",
              "}\n",
              "\n",
              "/* On hover */\n",
              "#sk-container-id-1 a.estimator_doc_link:hover {\n",
              "  /* unfitted */\n",
              "  background-color: var(--sklearn-color-unfitted-level-3);\n",
              "  color: var(--sklearn-color-background);\n",
              "  text-decoration: none;\n",
              "}\n",
              "\n",
              "#sk-container-id-1 a.estimator_doc_link.fitted:hover {\n",
              "  /* fitted */\n",
              "  background-color: var(--sklearn-color-fitted-level-3);\n",
              "}\n",
              "</style><div id=\"sk-container-id-1\" class=\"sk-top-container\"><div class=\"sk-text-repr-fallback\"><pre>DecisionTreeClassifier(class_weight=&#x27;balanced&#x27;, random_state=42)</pre><b>In a Jupyter environment, please rerun this cell to show the HTML representation or trust the notebook. <br />On GitHub, the HTML representation is unable to render, please try loading this page with nbviewer.org.</b></div><div class=\"sk-container\" hidden><div class=\"sk-item\"><div class=\"sk-estimator fitted sk-toggleable\"><input class=\"sk-toggleable__control sk-hidden--visually\" id=\"sk-estimator-id-1\" type=\"checkbox\" checked><label for=\"sk-estimator-id-1\" class=\"sk-toggleable__label fitted sk-toggleable__label-arrow\"><div><div>DecisionTreeClassifier</div></div><div><a class=\"sk-estimator-doc-link fitted\" rel=\"noreferrer\" target=\"_blank\" href=\"https://scikit-learn.org/1.6/modules/generated/sklearn.tree.DecisionTreeClassifier.html\">?<span>Documentation for DecisionTreeClassifier</span></a><span class=\"sk-estimator-doc-link fitted\">i<span>Fitted</span></span></div></label><div class=\"sk-toggleable__content fitted\"><pre>DecisionTreeClassifier(class_weight=&#x27;balanced&#x27;, random_state=42)</pre></div> </div></div></div></div>"
            ]
          },
          "metadata": {},
          "execution_count": 23
        }
      ]
    },
    {
      "cell_type": "code",
      "source": [
        "# Predicción en el conjunto de prueba\n",
        "y_pred = decision_tree.predict(X_test)"
      ],
      "metadata": {
        "id": "Cjmb45mgps_L"
      },
      "execution_count": null,
      "outputs": []
    },
    {
      "cell_type": "code",
      "source": [
        "# Predicción de probabilidades\n",
        "y_prob = decision_tree.predict_proba(X_test)[:, 1]"
      ],
      "metadata": {
        "id": "PCUm9LuYptWT"
      },
      "execution_count": null,
      "outputs": []
    },
    {
      "cell_type": "markdown",
      "source": [
        "### **6.1.2 Evaluación del modelo**\n",
        "La evaluación del modelo es una etapa crucial en cualquier proyecto de Machine Learning, ya que nos permite entender qué tan bien está funcionando el modelo para predecir la variable objetivo. Utilizaremos varias métricas para evaluar el modelo de árboles de Decisión entrenado.\n",
        "\n",
        "### **Curva ROC y AUC**\n",
        "La curva ROC (Receiver Operating Characteristic) muestra la relación entre la tasa de verdaderos positivos (TPR) y la tasa de falsos positivos (FPR) a diferentes umbrales de clasificación. El área bajo la curva (AUC) es una medida que resume el desempeño general del modelo.\n"
      ],
      "metadata": {
        "id": "jzo63G7iqYV7"
      }
    },
    {
      "cell_type": "code",
      "source": [
        "# Calcular la curva ROC\n",
        "fpr, tpr, thresholds = roc_curve(y_test, y_prob)\n",
        "auc = roc_auc_score(y_test, y_prob)\n",
        "\n",
        "# Graficar la curva ROC\n",
        "plt.plot(fpr, tpr, color='blue', label=f'ROC Curve (AUC = {auc:.2f})')\n",
        "plt.plot([0, 1], [0, 1], color='red', linestyle='--', label='No Skill')\n",
        "plt.title(\"Curva ROC\")\n",
        "plt.xlabel(\"Tasa de Falsos Positivos (FPR)\")\n",
        "plt.ylabel(\"Tasa de Verdaderos Positivos (TPR)\")\n",
        "plt.legend()\n",
        "plt.show()"
      ],
      "metadata": {
        "colab": {
          "base_uri": "https://localhost:8080/",
          "height": 472
        },
        "id": "D7rXlPeWqaUC",
        "outputId": "fc242b99-3c4f-449d-aae4-f14f27f19e83"
      },
      "execution_count": null,
      "outputs": [
        {
          "output_type": "display_data",
          "data": {
            "text/plain": [
              "<Figure size 640x480 with 1 Axes>"
            ],
            "image/png": "[encoded data removed]"
          },
          "metadata": {}
        }
      ]
    },
    {
      "cell_type": "markdown",
      "source": [
        "### **6.1.3 Matriz de Confusión**\n",
        "La matriz de confusión nos permite visualizar los verdaderos positivos, verdaderos negativos, falsos positivos y falsos negativos. Es una herramienta clave para evaluar los errores del modelo.\n"
      ],
      "metadata": {
        "id": "3ad0jW1vqhmb"
      }
    },
    {
      "cell_type": "code",
      "source": [
        "# Calcular la matriz de confusión\n",
        "matriz_confusion = confusion_matrix(y_test, y_pred)\n",
        "\n",
        "# Visualizar la matriz de confusión\n",
        "sns.heatmap(matriz_confusion, annot=True, fmt=\"d\", cmap=\"Blues\", xticklabels=['No Rotación', 'Rotación'], yticklabels=['No Rotación', 'Rotación'])\n",
        "plt.title(\"Matriz de Confusión\")\n",
        "plt.xlabel(\"Predicción\")\n",
        "plt.ylabel(\"Realidad\")\n",
        "plt.show()"
      ],
      "metadata": {
        "colab": {
          "base_uri": "https://localhost:8080/",
          "height": 472
        },
        "id": "hC-mVvY6qieC",
        "outputId": "143788e4-e391-442b-dfc5-1ab1ddff2e8c"
      },
      "execution_count": null,
      "outputs": [
        {
          "output_type": "display_data",
          "data": {
            "text/plain": [
              "<Figure size 640x480 with 2 Axes>"
            ],
            "image/png": "[encoded data removed]"
          },
          "metadata": {}
        }
      ]
    },
    {
      "cell_type": "markdown",
      "source": [
        "### **6.1.4 Reporte de Clasificación**\n",
        "El reporte de clasificación proporciona métricas clave como precisión, recall y F1-score para cada clase. Estas métricas nos ayudan a entender la calidad del modelo en detalle.\n"
      ],
      "metadata": {
        "id": "aVOhkSj3quki"
      }
    },
    {
      "cell_type": "code",
      "source": [
        "# Generar el reporte de clasificación\n",
        "reporte_clasificacion = classification_report(y_test, y_pred, target_names=['No Rotación', 'Rotación'],zero_division=0)\n",
        "print(\"Reporte de Clasificación:\")\n",
        "print(reporte_clasificacion)"
      ],
      "metadata": {
        "colab": {
          "base_uri": "https://localhost:8080/"
        },
        "id": "tdFJFSPiqzLL",
        "outputId": "bdf71ca2-129e-499b-f860-8dec79670033"
      },
      "execution_count": null,
      "outputs": [
        {
          "output_type": "stream",
          "name": "stdout",
          "text": [
            "Reporte de Clasificación:\n",
            "              precision    recall  f1-score   support\n",
            "\n",
            " No Rotación       0.95      0.95      0.95       641\n",
            "    Rotación       0.81      0.78      0.79       159\n",
            "\n",
            "    accuracy                           0.92       800\n",
            "   macro avg       0.88      0.87      0.87       800\n",
            "weighted avg       0.92      0.92      0.92       800\n",
            "\n"
          ]
        }
      ]
    },
    {
      "cell_type": "markdown",
      "source": [
        "## **6.2 Regresión Logística**\n",
        "\n",
        "### **¿Qué es la Regresión Logística?**\n",
        "\n",
        "La regresión logística es un algoritmo de aprendizaje supervisado utilizado para tareas de clasificación. Su objetivo es predecir la probabilidad de pertenencia de una observación a una clase específica. Aunque su nombre incluye el término 'regresión', se emplea principalmente para problemas de clasificación binaria.\n",
        "\n",
        "### **¿Por qué usar la Regresión Logística?**\n",
        "\n",
        "1. **Interpretabilidad:** Fácil de entender e interpretar los coeficientes.  \n",
        "2. **Eficiencia:** Funciona bien en problemas linealmente separables.  \n",
        "3. **Probabilidades de Salida:** Proporciona probabilidades en lugar de solo etiquetas de clase.  \n",
        "4. **Generalización:** Es menos propensa al sobreajuste si se aplica regularización.  \n",
        "\n",
        "### **Fórmula Matemática**\n",
        "\n",
        "La función logística (sigmoide) se define como:\n",
        "\n",
        "![image.png](data:image/png;base64,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)\n",
        "\n",
        "donde:\n",
        "- P(y=1|X) es la probabilidad de que la clase sea 1 dado (X).  \n",
        "- β0, β1,....,βn son los coeficientes del modelo."
      ],
      "metadata": {
        "id": "W_0NPHWbuoxS"
      }
    },
    {
      "cell_type": "markdown",
      "source": [
        "### **6.2.1 Entrenamiento del Modelo**\n",
        "Entrenaremos el modelo de regresión logística utilizando el conjunto de datos preprocesado."
      ],
      "metadata": {
        "id": "x-i0b4hiwk25"
      }
    },
    {
      "cell_type": "code",
      "source": [
        "# Crear y entrenar el modelo\n",
        "modelo_logistica = LogisticRegression()\n",
        "modelo_logistica.fit(X_train, y_train)"
      ],
      "metadata": {
        "colab": {
          "base_uri": "https://localhost:8080/",
          "height": 80
        },
        "id": "G0IRQwFRuzxR",
        "outputId": "1e9f67b1-0dfd-4e2a-afd5-d1cf8ba01dae"
      },
      "execution_count": null,
      "outputs": [
        {
          "output_type": "execute_result",
          "data": {
            "text/plain": [
              "LogisticRegression()"
            ],
            "text/html": [
              "<style>#sk-container-id-2 {\n",
              "  /* Definition of color scheme common for light and dark mode */\n",
              "  --sklearn-color-text: #000;\n",
              "  --sklearn-color-text-muted: #666;\n",
              "  --sklearn-color-line: gray;\n",
              "  /* Definition of color scheme for unfitted estimators */\n",
              "  --sklearn-color-unfitted-level-0: #fff5e6;\n",
              "  --sklearn-color-unfitted-level-1: #f6e4d2;\n",
              "  --sklearn-color-unfitted-level-2: #ffe0b3;\n",
              "  --sklearn-color-unfitted-level-3: chocolate;\n",
              "  /* Definition of color scheme for fitted estimators */\n",
              "  --sklearn-color-fitted-level-0: #f0f8ff;\n",
              "  --sklearn-color-fitted-level-1: #d4ebff;\n",
              "  --sklearn-color-fitted-level-2: #b3dbfd;\n",
              "  --sklearn-color-fitted-level-3: cornflowerblue;\n",
              "\n",
              "  /* Specific color for light theme */\n",
              "  --sklearn-color-text-on-default-background: var(--sg-text-color, var(--theme-code-foreground, var(--jp-content-font-color1, black)));\n",
              "  --sklearn-color-background: var(--sg-background-color, var(--theme-background, var(--jp-layout-color0, white)));\n",
              "  --sklearn-color-border-box: var(--sg-text-color, var(--theme-code-foreground, var(--jp-content-font-color1, black)));\n",
              "  --sklearn-color-icon: #696969;\n",
              "\n",
              "  @media (prefers-color-scheme: dark) {\n",
              "    /* Redefinition of color scheme for dark theme */\n",
              "    --sklearn-color-text-on-default-background: var(--sg-text-color, var(--theme-code-foreground, var(--jp-content-font-color1, white)));\n",
              "    --sklearn-color-background: var(--sg-background-color, var(--theme-background, var(--jp-layout-color0, #111)));\n",
              "    --sklearn-color-border-box: var(--sg-text-color, var(--theme-code-foreground, var(--jp-content-font-color1, white)));\n",
              "    --sklearn-color-icon: #878787;\n",
              "  }\n",
              "}\n",
              "\n",
              "#sk-container-id-2 {\n",
              "  color: var(--sklearn-color-text);\n",
              "}\n",
              "\n",
              "#sk-container-id-2 pre {\n",
              "  padding: 0;\n",
              "}\n",
              "\n",
              "#sk-container-id-2 input.sk-hidden--visually {\n",
              "  border: 0;\n",
              "  clip: rect(1px 1px 1px 1px);\n",
              "  clip: rect(1px, 1px, 1px, 1px);\n",
              "  height: 1px;\n",
              "  margin: -1px;\n",
              "  overflow: hidden;\n",
              "  padding: 0;\n",
              "  position: absolute;\n",
              "  width: 1px;\n",
              "}\n",
              "\n",
              "#sk-container-id-2 div.sk-dashed-wrapped {\n",
              "  border: 1px dashed var(--sklearn-color-line);\n",
              "  margin: 0 0.4em 0.5em 0.4em;\n",
              "  box-sizing: border-box;\n",
              "  padding-bottom: 0.4em;\n",
              "  background-color: var(--sklearn-color-background);\n",
              "}\n",
              "\n",
              "#sk-container-id-2 div.sk-container {\n",
              "  /* jupyter's `normalize.less` sets `[hidden] { display: none; }`\n",
              "     but bootstrap.min.css set `[hidden] { display: none !important; }`\n",
              "     so we also need the `!important` here to be able to override the\n",
              "     default hidden behavior on the sphinx rendered scikit-learn.org.\n",
              "     See: https://github.com/scikit-learn/scikit-learn/issues/21755 */\n",
              "  display: inline-block !important;\n",
              "  position: relative;\n",
              "}\n",
              "\n",
              "#sk-container-id-2 div.sk-text-repr-fallback {\n",
              "  display: none;\n",
              "}\n",
              "\n",
              "div.sk-parallel-item,\n",
              "div.sk-serial,\n",
              "div.sk-item {\n",
              "  /* draw centered vertical line to link estimators */\n",
              "  background-image: linear-gradient(var(--sklearn-color-text-on-default-background), var(--sklearn-color-text-on-default-background));\n",
              "  background-size: 2px 100%;\n",
              "  background-repeat: no-repeat;\n",
              "  background-position: center center;\n",
              "}\n",
              "\n",
              "/* Parallel-specific style estimator block */\n",
              "\n",
              "#sk-container-id-2 div.sk-parallel-item::after {\n",
              "  content: \"\";\n",
              "  width: 100%;\n",
              "  border-bottom: 2px solid var(--sklearn-color-text-on-default-background);\n",
              "  flex-grow: 1;\n",
              "}\n",
              "\n",
              "#sk-container-id-2 div.sk-parallel {\n",
              "  display: flex;\n",
              "  align-items: stretch;\n",
              "  justify-content: center;\n",
              "  background-color: var(--sklearn-color-background);\n",
              "  position: relative;\n",
              "}\n",
              "\n",
              "#sk-container-id-2 div.sk-parallel-item {\n",
              "  display: flex;\n",
              "  flex-direction: column;\n",
              "}\n",
              "\n",
              "#sk-container-id-2 div.sk-parallel-item:first-child::after {\n",
              "  align-self: flex-end;\n",
              "  width: 50%;\n",
              "}\n",
              "\n",
              "#sk-container-id-2 div.sk-parallel-item:last-child::after {\n",
              "  align-self: flex-start;\n",
              "  width: 50%;\n",
              "}\n",
              "\n",
              "#sk-container-id-2 div.sk-parallel-item:only-child::after {\n",
              "  width: 0;\n",
              "}\n",
              "\n",
              "/* Serial-specific style estimator block */\n",
              "\n",
              "#sk-container-id-2 div.sk-serial {\n",
              "  display: flex;\n",
              "  flex-direction: column;\n",
              "  align-items: center;\n",
              "  background-color: var(--sklearn-color-background);\n",
              "  padding-right: 1em;\n",
              "  padding-left: 1em;\n",
              "}\n",
              "\n",
              "\n",
              "/* Toggleable style: style used for estimator/Pipeline/ColumnTransformer box that is\n",
              "clickable and can be expanded/collapsed.\n",
              "- Pipeline and ColumnTransformer use this feature and define the default style\n",
              "- Estimators will overwrite some part of the style using the `sk-estimator` class\n",
              "*/\n",
              "\n",
              "/* Pipeline and ColumnTransformer style (default) */\n",
              "\n",
              "#sk-container-id-2 div.sk-toggleable {\n",
              "  /* Default theme specific background. It is overwritten whether we have a\n",
              "  specific estimator or a Pipeline/ColumnTransformer */\n",
              "  background-color: var(--sklearn-color-background);\n",
              "}\n",
              "\n",
              "/* Toggleable label */\n",
              "#sk-container-id-2 label.sk-toggleable__label {\n",
              "  cursor: pointer;\n",
              "  display: flex;\n",
              "  width: 100%;\n",
              "  margin-bottom: 0;\n",
              "  padding: 0.5em;\n",
              "  box-sizing: border-box;\n",
              "  text-align: center;\n",
              "  align-items: start;\n",
              "  justify-content: space-between;\n",
              "  gap: 0.5em;\n",
              "}\n",
              "\n",
              "#sk-container-id-2 label.sk-toggleable__label .caption {\n",
              "  font-size: 0.6rem;\n",
              "  font-weight: lighter;\n",
              "  color: var(--sklearn-color-text-muted);\n",
              "}\n",
              "\n",
              "#sk-container-id-2 label.sk-toggleable__label-arrow:before {\n",
              "  /* Arrow on the left of the label */\n",
              "  content: \"▸\";\n",
              "  float: left;\n",
              "  margin-right: 0.25em;\n",
              "  color: var(--sklearn-color-icon);\n",
              "}\n",
              "\n",
              "#sk-container-id-2 label.sk-toggleable__label-arrow:hover:before {\n",
              "  color: var(--sklearn-color-text);\n",
              "}\n",
              "\n",
              "/* Toggleable content - dropdown */\n",
              "\n",
              "#sk-container-id-2 div.sk-toggleable__content {\n",
              "  max-height: 0;\n",
              "  max-width: 0;\n",
              "  overflow: hidden;\n",
              "  text-align: left;\n",
              "  /* unfitted */\n",
              "  background-color: var(--sklearn-color-unfitted-level-0);\n",
              "}\n",
              "\n",
              "#sk-container-id-2 div.sk-toggleable__content.fitted {\n",
              "  /* fitted */\n",
              "  background-color: var(--sklearn-color-fitted-level-0);\n",
              "}\n",
              "\n",
              "#sk-container-id-2 div.sk-toggleable__content pre {\n",
              "  margin: 0.2em;\n",
              "  border-radius: 0.25em;\n",
              "  color: var(--sklearn-color-text);\n",
              "  /* unfitted */\n",
              "  background-color: var(--sklearn-color-unfitted-level-0);\n",
              "}\n",
              "\n",
              "#sk-container-id-2 div.sk-toggleable__content.fitted pre {\n",
              "  /* unfitted */\n",
              "  background-color: var(--sklearn-color-fitted-level-0);\n",
              "}\n",
              "\n",
              "#sk-container-id-2 input.sk-toggleable__control:checked~div.sk-toggleable__content {\n",
              "  /* Expand drop-down */\n",
              "  max-height: 200px;\n",
              "  max-width: 100%;\n",
              "  overflow: auto;\n",
              "}\n",
              "\n",
              "#sk-container-id-2 input.sk-toggleable__control:checked~label.sk-toggleable__label-arrow:before {\n",
              "  content: \"▾\";\n",
              "}\n",
              "\n",
              "/* Pipeline/ColumnTransformer-specific style */\n",
              "\n",
              "#sk-container-id-2 div.sk-label input.sk-toggleable__control:checked~label.sk-toggleable__label {\n",
              "  color: var(--sklearn-color-text);\n",
              "  background-color: var(--sklearn-color-unfitted-level-2);\n",
              "}\n",
              "\n",
              "#sk-container-id-2 div.sk-label.fitted input.sk-toggleable__control:checked~label.sk-toggleable__label {\n",
              "  background-color: var(--sklearn-color-fitted-level-2);\n",
              "}\n",
              "\n",
              "/* Estimator-specific style */\n",
              "\n",
              "/* Colorize estimator box */\n",
              "#sk-container-id-2 div.sk-estimator input.sk-toggleable__control:checked~label.sk-toggleable__label {\n",
              "  /* unfitted */\n",
              "  background-color: var(--sklearn-color-unfitted-level-2);\n",
              "}\n",
              "\n",
              "#sk-container-id-2 div.sk-estimator.fitted input.sk-toggleable__control:checked~label.sk-toggleable__label {\n",
              "  /* fitted */\n",
              "  background-color: var(--sklearn-color-fitted-level-2);\n",
              "}\n",
              "\n",
              "#sk-container-id-2 div.sk-label label.sk-toggleable__label,\n",
              "#sk-container-id-2 div.sk-label label {\n",
              "  /* The background is the default theme color */\n",
              "  color: var(--sklearn-color-text-on-default-background);\n",
              "}\n",
              "\n",
              "/* On hover, darken the color of the background */\n",
              "#sk-container-id-2 div.sk-label:hover label.sk-toggleable__label {\n",
              "  color: var(--sklearn-color-text);\n",
              "  background-color: var(--sklearn-color-unfitted-level-2);\n",
              "}\n",
              "\n",
              "/* Label box, darken color on hover, fitted */\n",
              "#sk-container-id-2 div.sk-label.fitted:hover label.sk-toggleable__label.fitted {\n",
              "  color: var(--sklearn-color-text);\n",
              "  background-color: var(--sklearn-color-fitted-level-2);\n",
              "}\n",
              "\n",
              "/* Estimator label */\n",
              "\n",
              "#sk-container-id-2 div.sk-label label {\n",
              "  font-family: monospace;\n",
              "  font-weight: bold;\n",
              "  display: inline-block;\n",
              "  line-height: 1.2em;\n",
              "}\n",
              "\n",
              "#sk-container-id-2 div.sk-label-container {\n",
              "  text-align: center;\n",
              "}\n",
              "\n",
              "/* Estimator-specific */\n",
              "#sk-container-id-2 div.sk-estimator {\n",
              "  font-family: monospace;\n",
              "  border: 1px dotted var(--sklearn-color-border-box);\n",
              "  border-radius: 0.25em;\n",
              "  box-sizing: border-box;\n",
              "  margin-bottom: 0.5em;\n",
              "  /* unfitted */\n",
              "  background-color: var(--sklearn-color-unfitted-level-0);\n",
              "}\n",
              "\n",
              "#sk-container-id-2 div.sk-estimator.fitted {\n",
              "  /* fitted */\n",
              "  background-color: var(--sklearn-color-fitted-level-0);\n",
              "}\n",
              "\n",
              "/* on hover */\n",
              "#sk-container-id-2 div.sk-estimator:hover {\n",
              "  /* unfitted */\n",
              "  background-color: var(--sklearn-color-unfitted-level-2);\n",
              "}\n",
              "\n",
              "#sk-container-id-2 div.sk-estimator.fitted:hover {\n",
              "  /* fitted */\n",
              "  background-color: var(--sklearn-color-fitted-level-2);\n",
              "}\n",
              "\n",
              "/* Specification for estimator info (e.g. \"i\" and \"?\") */\n",
              "\n",
              "/* Common style for \"i\" and \"?\" */\n",
              "\n",
              ".sk-estimator-doc-link,\n",
              "a:link.sk-estimator-doc-link,\n",
              "a:visited.sk-estimator-doc-link {\n",
              "  float: right;\n",
              "  font-size: smaller;\n",
              "  line-height: 1em;\n",
              "  font-family: monospace;\n",
              "  background-color: var(--sklearn-color-background);\n",
              "  border-radius: 1em;\n",
              "  height: 1em;\n",
              "  width: 1em;\n",
              "  text-decoration: none !important;\n",
              "  margin-left: 0.5em;\n",
              "  text-align: center;\n",
              "  /* unfitted */\n",
              "  border: var(--sklearn-color-unfitted-level-1) 1pt solid;\n",
              "  color: var(--sklearn-color-unfitted-level-1);\n",
              "}\n",
              "\n",
              ".sk-estimator-doc-link.fitted,\n",
              "a:link.sk-estimator-doc-link.fitted,\n",
              "a:visited.sk-estimator-doc-link.fitted {\n",
              "  /* fitted */\n",
              "  border: var(--sklearn-color-fitted-level-1) 1pt solid;\n",
              "  color: var(--sklearn-color-fitted-level-1);\n",
              "}\n",
              "\n",
              "/* On hover */\n",
              "div.sk-estimator:hover .sk-estimator-doc-link:hover,\n",
              ".sk-estimator-doc-link:hover,\n",
              "div.sk-label-container:hover .sk-estimator-doc-link:hover,\n",
              ".sk-estimator-doc-link:hover {\n",
              "  /* unfitted */\n",
              "  background-color: var(--sklearn-color-unfitted-level-3);\n",
              "  color: var(--sklearn-color-background);\n",
              "  text-decoration: none;\n",
              "}\n",
              "\n",
              "div.sk-estimator.fitted:hover .sk-estimator-doc-link.fitted:hover,\n",
              ".sk-estimator-doc-link.fitted:hover,\n",
              "div.sk-label-container:hover .sk-estimator-doc-link.fitted:hover,\n",
              ".sk-estimator-doc-link.fitted:hover {\n",
              "  /* fitted */\n",
              "  background-color: var(--sklearn-color-fitted-level-3);\n",
              "  color: var(--sklearn-color-background);\n",
              "  text-decoration: none;\n",
              "}\n",
              "\n",
              "/* Span, style for the box shown on hovering the info icon */\n",
              ".sk-estimator-doc-link span {\n",
              "  display: none;\n",
              "  z-index: 9999;\n",
              "  position: relative;\n",
              "  font-weight: normal;\n",
              "  right: .2ex;\n",
              "  padding: .5ex;\n",
              "  margin: .5ex;\n",
              "  width: min-content;\n",
              "  min-width: 20ex;\n",
              "  max-width: 50ex;\n",
              "  color: var(--sklearn-color-text);\n",
              "  box-shadow: 2pt 2pt 4pt #999;\n",
              "  /* unfitted */\n",
              "  background: var(--sklearn-color-unfitted-level-0);\n",
              "  border: .5pt solid var(--sklearn-color-unfitted-level-3);\n",
              "}\n",
              "\n",
              ".sk-estimator-doc-link.fitted span {\n",
              "  /* fitted */\n",
              "  background: var(--sklearn-color-fitted-level-0);\n",
              "  border: var(--sklearn-color-fitted-level-3);\n",
              "}\n",
              "\n",
              ".sk-estimator-doc-link:hover span {\n",
              "  display: block;\n",
              "}\n",
              "\n",
              "/* \"?\"-specific style due to the `<a>` HTML tag */\n",
              "\n",
              "#sk-container-id-2 a.estimator_doc_link {\n",
              "  float: right;\n",
              "  font-size: 1rem;\n",
              "  line-height: 1em;\n",
              "  font-family: monospace;\n",
              "  background-color: var(--sklearn-color-background);\n",
              "  border-radius: 1rem;\n",
              "  height: 1rem;\n",
              "  width: 1rem;\n",
              "  text-decoration: none;\n",
              "  /* unfitted */\n",
              "  color: var(--sklearn-color-unfitted-level-1);\n",
              "  border: var(--sklearn-color-unfitted-level-1) 1pt solid;\n",
              "}\n",
              "\n",
              "#sk-container-id-2 a.estimator_doc_link.fitted {\n",
              "  /* fitted */\n",
              "  border: var(--sklearn-color-fitted-level-1) 1pt solid;\n",
              "  color: var(--sklearn-color-fitted-level-1);\n",
              "}\n",
              "\n",
              "/* On hover */\n",
              "#sk-container-id-2 a.estimator_doc_link:hover {\n",
              "  /* unfitted */\n",
              "  background-color: var(--sklearn-color-unfitted-level-3);\n",
              "  color: var(--sklearn-color-background);\n",
              "  text-decoration: none;\n",
              "}\n",
              "\n",
              "#sk-container-id-2 a.estimator_doc_link.fitted:hover {\n",
              "  /* fitted */\n",
              "  background-color: var(--sklearn-color-fitted-level-3);\n",
              "}\n",
              "</style><div id=\"sk-container-id-2\" class=\"sk-top-container\"><div class=\"sk-text-repr-fallback\"><pre>LogisticRegression()</pre><b>In a Jupyter environment, please rerun this cell to show the HTML representation or trust the notebook. <br />On GitHub, the HTML representation is unable to render, please try loading this page with nbviewer.org.</b></div><div class=\"sk-container\" hidden><div class=\"sk-item\"><div class=\"sk-estimator fitted sk-toggleable\"><input class=\"sk-toggleable__control sk-hidden--visually\" id=\"sk-estimator-id-2\" type=\"checkbox\" checked><label for=\"sk-estimator-id-2\" class=\"sk-toggleable__label fitted sk-toggleable__label-arrow\"><div><div>LogisticRegression</div></div><div><a class=\"sk-estimator-doc-link fitted\" rel=\"noreferrer\" target=\"_blank\" href=\"https://scikit-learn.org/1.6/modules/generated/sklearn.linear_model.LogisticRegression.html\">?<span>Documentation for LogisticRegression</span></a><span class=\"sk-estimator-doc-link fitted\">i<span>Fitted</span></span></div></label><div class=\"sk-toggleable__content fitted\"><pre>LogisticRegression()</pre></div> </div></div></div></div>"
            ]
          },
          "metadata": {},
          "execution_count": 29
        }
      ]
    },
    {
      "cell_type": "code",
      "source": [
        "# Hacer predicciones\n",
        "y_pred_logistica = modelo_logistica.predict(X_test)\n",
        "# Predicción de probabilidades\n",
        "y_prob_logistica = modelo_logistica.predict_proba(X_test)[:, 1]"
      ],
      "metadata": {
        "id": "PCbQr3gZvRih"
      },
      "execution_count": null,
      "outputs": []
    },
    {
      "cell_type": "markdown",
      "source": [
        "### **6.2.2 Evaluación del Modelo**\n",
        "La evaluación del modelo es una etapa crucial en cualquier proyecto de Machine Learning, ya que nos permite entender qué tan bien está funcionando el modelo para predecir la variable objetivo. Utilizaremos varias métricas para evaluar el modelo de regresión logística entrenado.\n",
        "\n",
        "### **Curva ROC y AUC**\n",
        "La curva ROC (Receiver Operating Characteristic) muestra la relación entre la tasa de verdaderos positivos (TPR) y la tasa de falsos positivos (FPR) a diferentes umbrales de clasificación. El área bajo la curva (AUC) es una medida que resume el desempeño general del modelo.\n"
      ],
      "metadata": {
        "id": "HBJPHQ5cvfOX"
      }
    },
    {
      "cell_type": "code",
      "source": [
        "# Calcular la curva ROC\n",
        "fpr, tpr, thresholds = roc_curve(y_test, y_prob_logistica)\n",
        "auc = roc_auc_score(y_test, y_prob_logistica)\n",
        "\n",
        "# Graficar la curva ROC\n",
        "plt.plot(fpr, tpr, color='blue', label=f'ROC Curve (AUC = {auc:.2f})')\n",
        "plt.plot([0, 1], [0, 1], color='red', linestyle='--', label='No Skill')\n",
        "plt.title(\"Curva ROC\")\n",
        "plt.xlabel(\"Tasa de Falsos Positivos (FPR)\")\n",
        "plt.ylabel(\"Tasa de Verdaderos Positivos (TPR)\")\n",
        "plt.legend()\n",
        "plt.show()"
      ],
      "metadata": {
        "colab": {
          "base_uri": "https://localhost:8080/",
          "height": 472
        },
        "outputId": "91ec7c64-041f-428d-b784-1265fd1b0e23",
        "id": "oJw3g9Q3vfOY"
      },
      "execution_count": null,
      "outputs": [
        {
          "output_type": "display_data",
          "data": {
            "text/plain": [
              "<Figure size 640x480 with 1 Axes>"
            ],
            "image/png": "[encoded data removed]"
          },
          "metadata": {}
        }
      ]
    },
    {
      "cell_type": "markdown",
      "source": [
        "### **6.2.3 Matriz de Confusión**\n",
        "La matriz de confusión nos permite visualizar los verdaderos positivos, verdaderos negativos, falsos positivos y falsos negativos. Es una herramienta clave para evaluar los errores del modelo.\n"
      ],
      "metadata": {
        "id": "SeBxS4Y4vfOZ"
      }
    },
    {
      "cell_type": "code",
      "source": [
        "# Calcular la matriz de confusión\n",
        "matriz_confusion = confusion_matrix(y_test, y_pred_logistica)\n",
        "\n",
        "# Visualizar la matriz de confusión\n",
        "sns.heatmap(matriz_confusion, annot=True, fmt=\"d\", cmap=\"Blues\", xticklabels=['No Rotación', 'Rotación'], yticklabels=['No Rotación', 'Rotación'])\n",
        "plt.title(\"Matriz de Confusión\")\n",
        "plt.xlabel(\"Predicción\")\n",
        "plt.ylabel(\"Realidad\")\n",
        "plt.show()"
      ],
      "metadata": {
        "colab": {
          "base_uri": "https://localhost:8080/",
          "height": 472
        },
        "outputId": "3eafe76e-a623-41b2-d8e5-37796c1fba7c",
        "id": "odSdLC3bvfOZ"
      },
      "execution_count": null,
      "outputs": [
        {
          "output_type": "display_data",
          "data": {
            "text/plain": [
              "<Figure size 640x480 with 2 Axes>"
            ],
            "image/png": "[encoded data removed]"
          },
          "metadata": {}
        }
      ]
    },
    {
      "cell_type": "markdown",
      "source": [
        "### **6.2.4 Reporte de Clasificación**\n",
        "El reporte de clasificación proporciona métricas clave como precisión, recall y F1-score para cada clase. Estas métricas nos ayudan a entender la calidad del modelo en detalle.\n"
      ],
      "metadata": {
        "id": "cK5P0TXfvfOZ"
      }
    },
    {
      "cell_type": "code",
      "source": [
        "# Generar el reporte de clasificación\n",
        "reporte_clasificacion = classification_report(y_test, y_pred_logistica, target_names=['No Rotación', 'Rotación'],zero_division=0)\n",
        "print(\"Reporte de Clasificación:\")\n",
        "print(reporte_clasificacion)"
      ],
      "metadata": {
        "colab": {
          "base_uri": "https://localhost:8080/"
        },
        "outputId": "7ceb898c-73b8-4f17-dcdb-c0f3362e8f73",
        "id": "Mbyadz6PvfOa"
      },
      "execution_count": null,
      "outputs": [
        {
          "output_type": "stream",
          "name": "stdout",
          "text": [
            "Reporte de Clasificación:\n",
            "              precision    recall  f1-score   support\n",
            "\n",
            " No Rotación       0.80      1.00      0.89       641\n",
            "    Rotación       0.00      0.00      0.00       159\n",
            "\n",
            "    accuracy                           0.80       800\n",
            "   macro avg       0.40      0.50      0.44       800\n",
            "weighted avg       0.64      0.80      0.71       800\n",
            "\n"
          ]
        }
      ]
    },
    {
      "cell_type": "markdown",
      "source": [
        "## **6.3 Insights y Observaciones (Sección 6)**\n",
        "\n",
        "- **Árboles de Decisión**:\n",
        "  - El modelo obtuvo un **AUC de 0.87**, lo que indica una buena capacidad de discriminación entre empleados que rotan y los que no.\n",
        "  - La **matriz de confusión** muestra un buen equilibrio, con precisión alta en la clase mayoritaria (No Rotación) y un desempeño aceptable en la clase minoritaria (Rotación).\n",
        "  - El **reporte de clasificación** refleja un **F1-score de 0.79 en la clase Rotación**, lo cual es positivo considerando el desbalance de clases.\n",
        "  - Este modelo es útil para **interpretar qué variables influyen en la rotación** y puede servir como base para estrategias de retención.\n",
        "\n",
        "- **Regresión Logística**:\n",
        "  - El modelo tuvo un **AUC de 0.54**, cercano al azar, lo que indica **bajo poder predictivo** en este caso.\n",
        "  - La **matriz de confusión** revela que el modelo clasificó casi todos los casos como *No Rotación*, sin identificar adecuadamente a los empleados que sí rotan.\n",
        "  - En el **reporte de clasificación**, la clase *Rotación* obtuvo un **F1-score de 0.00**, evidenciando que el modelo no logra capturar patrones útiles para predecir la salida de empleados.\n",
        "  - Aunque no es competitivo en desempeño, la regresión logística sigue siendo valiosa por su **interpretabilidad**, permitiendo observar la dirección e intensidad de las variables que influyen en la probabilidad de rotación.\n",
        "\n",
        "- **Comparativa General**:\n",
        "  - El **Árbol de Decisión supera claramente a la Regresión Logística** en desempeño predictivo para este dataset.\n",
        "  - Sin embargo, ambos modelos ofrecen perspectivas complementarias:  \n",
        "    - El Árbol es más preciso para predicción.  \n",
        "    - La Regresión Logística ayuda a comprender mejor la relación lineal entre variables y la rotación.  "
      ],
      "metadata": {
        "id": "BgT8OTSp8gz_"
      }
    },
    {
      "cell_type": "markdown",
      "source": [
        "# **7. Comparación de Modelos por Precisión**\n",
        "\n",
        "En esta sección comparamos dos modelos de clasificación: Regresión Logística\n",
        "y árboles de decisión. Se evalúan en función de su precisión para determinar cuál ofrece el mejor rendimiento en el conjunto de datos.\n"
      ],
      "metadata": {
        "id": "IGONfc3CE4qZ"
      }
    },
    {
      "cell_type": "code",
      "source": [
        "accuracy_ad = accuracy_score(y_test, y_pred)\n",
        "accuracy_lr = accuracy_score(y_test, y_pred_logistica)\n",
        "print(\"Precisión Regresión Logística:\", accuracy_lr)\n",
        "print(\"Precisión árboles de decisión:\", accuracy_ad)"
      ],
      "metadata": {
        "colab": {
          "base_uri": "https://localhost:8080/"
        },
        "id": "RLUd8gAKFCgl",
        "outputId": "7eab5bfb-2e69-4c5e-bdfb-0cc6631ce016"
      },
      "execution_count": null,
      "outputs": [
        {
          "output_type": "stream",
          "name": "stdout",
          "text": [
            "Precisión Regresión Logística: 0.80125\n",
            "Precisión árboles de decisión: 0.91875\n"
          ]
        }
      ]
    },
    {
      "cell_type": "markdown",
      "source": [
        "## **7.1 Tabla de Resultados Reales vs Predichos**\n",
        "Aquí visualizamos una tabla que compara los valores reales con las predicciones del modelo KNN, el cual ha mostrado el mejor desempeño en términos de precisión en este caso específico.\n"
      ],
      "metadata": {
        "id": "7U_rIuM0FirX"
      }
    },
    {
      "cell_type": "code",
      "source": [
        "resultados = pd.DataFrame({\n",
        "    'Real': y_test,\n",
        "    'Predicción': y_pred\n",
        "})\n",
        "\n",
        "resultados"
      ],
      "metadata": {
        "colab": {
          "base_uri": "https://localhost:8080/",
          "height": 424
        },
        "id": "1r9D0P8mFoNe",
        "outputId": "08cdb28a-1eff-4894-a649-9a7aa6ba4a28"
      },
      "execution_count": null,
      "outputs": [
        {
          "output_type": "execute_result",
          "data": {
            "text/plain": [
              "      Real  Predicción\n",
              "555      0           0\n",
              "3491     0           0\n",
              "527      0           1\n",
              "3925     0           0\n",
              "2989     0           0\n",
              "...    ...         ...\n",
              "1922     1           0\n",
              "865      0           0\n",
              "3943     1           1\n",
              "1642     1           1\n",
              "2483     0           0\n",
              "\n",
              "[800 rows x 2 columns]"
            ],
            "text/html": [
              "\n",
              "  <div id=\"df-2ce0cf17-488a-46a2-b921-41fabc933fe5\" class=\"colab-df-container\">\n",
              "    <div>\n",
              "<style scoped>\n",
              "    .dataframe tbody tr th:only-of-type {\n",
              "        vertical-align: middle;\n",
              "    }\n",
              "\n",
              "    .dataframe tbody tr th {\n",
              "        vertical-align: top;\n",
              "    }\n",
              "\n",
              "    .dataframe thead th {\n",
              "        text-align: right;\n",
              "    }\n",
              "</style>\n",
              "<table border=\"1\" class=\"dataframe\">\n",
              "  <thead>\n",
              "    <tr style=\"text-align: right;\">\n",
              "      <th></th>\n",
              "      <th>Real</th>\n",
              "      <th>Predicción</th>\n",
              "    </tr>\n",
              "  </thead>\n",
              "  <tbody>\n",
              "    <tr>\n",
              "      <th>555</th>\n",
              "      <td>0</td>\n",
              "      <td>0</td>\n",
              "    </tr>\n",
              "    <tr>\n",
              "      <th>3491</th>\n",
              "      <td>0</td>\n",
              "      <td>0</td>\n",
              "    </tr>\n",
              "    <tr>\n",
              "      <th>527</th>\n",
              "      <td>0</td>\n",
              "      <td>1</td>\n",
              "    </tr>\n",
              "    <tr>\n",
              "      <th>3925</th>\n",
              "      <td>0</td>\n",
              "      <td>0</td>\n",
              "    </tr>\n",
              "    <tr>\n",
              "      <th>2989</th>\n",
              "      <td>0</td>\n",
              "      <td>0</td>\n",
              "    </tr>\n",
              "    <tr>\n",
              "      <th>...</th>\n",
              "      <td>...</td>\n",
              "      <td>...</td>\n",
              "    </tr>\n",
              "    <tr>\n",
              "      <th>1922</th>\n",
              "      <td>1</td>\n",
              "      <td>0</td>\n",
              "    </tr>\n",
              "    <tr>\n",
              "      <th>865</th>\n",
              "      <td>0</td>\n",
              "      <td>0</td>\n",
              "    </tr>\n",
              "    <tr>\n",
              "      <th>3943</th>\n",
              "      <td>1</td>\n",
              "      <td>1</td>\n",
              "    </tr>\n",
              "    <tr>\n",
              "      <th>1642</th>\n",
              "      <td>1</td>\n",
              "      <td>1</td>\n",
              "    </tr>\n",
              "    <tr>\n",
              "      <th>2483</th>\n",
              "      <td>0</td>\n",
              "      <td>0</td>\n",
              "    </tr>\n",
              "  </tbody>\n",
              "</table>\n",
              "<p>800 rows × 2 columns</p>\n",
              "</div>\n",
              "    <div class=\"colab-df-buttons\">\n",
              "\n",
              "  <div class=\"colab-df-container\">\n",
              "    <button class=\"colab-df-convert\" onclick=\"convertToInteractive('df-2ce0cf17-488a-46a2-b921-41fabc933fe5')\"\n",
              "            title=\"Convert this dataframe to an interactive table.\"\n",
              "            style=\"display:none;\">\n",
              "\n",
              "  <svg xmlns=\"http://www.w3.org/2000/svg\" height=\"24px\" viewBox=\"0 -960 960 960\">\n",
              "    <path d=\"M120-120v-720h720v720H120Zm60-500h600v-160H180v160Zm220 220h160v-160H400v160Zm0 220h160v-160H400v160ZM180-400h160v-160H180v160Zm440 0h160v-160H620v160ZM180-180h160v-160H180v160Zm440 0h160v-160H620v160Z\"/>\n",
              "  </svg>\n",
              "    </button>\n",
              "\n",
              "  <style>\n",
              "    .colab-df-container {\n",
              "      display:flex;\n",
              "      gap: 12px;\n",
              "    }\n",
              "\n",
              "    .colab-df-convert {\n",
              "      background-color: #E8F0FE;\n",
              "      border: none;\n",
              "      border-radius: 50%;\n",
              "      cursor: pointer;\n",
              "      display: none;\n",
              "      fill: #1967D2;\n",
              "      height: 32px;\n",
              "      padding: 0 0 0 0;\n",
              "      width: 32px;\n",
              "    }\n",
              "\n",
              "    .colab-df-convert:hover {\n",
              "      background-color: #E2EBFA;\n",
              "      box-shadow: 0px 1px 2px rgba(60, 64, 67, 0.3), 0px 1px 3px 1px rgba(60, 64, 67, 0.15);\n",
              "      fill: #174EA6;\n",
              "    }\n",
              "\n",
              "    .colab-df-buttons div {\n",
              "      margin-bottom: 4px;\n",
              "    }\n",
              "\n",
              "    [theme=dark] .colab-df-convert {\n",
              "      background-color: #3B4455;\n",
              "      fill: #D2E3FC;\n",
              "    }\n",
              "\n",
              "    [theme=dark] .colab-df-convert:hover {\n",
              "      background-color: #434B5C;\n",
              "      box-shadow: 0px 1px 3px 1px rgba(0, 0, 0, 0.15);\n",
              "      filter: drop-shadow(0px 1px 2px rgba(0, 0, 0, 0.3));\n",
              "      fill: #FFFFFF;\n",
              "    }\n",
              "  </style>\n",
              "\n",
              "    <script>\n",
              "      const buttonEl =\n",
              "        document.querySelector('#df-2ce0cf17-488a-46a2-b921-41fabc933fe5 button.colab-df-convert');\n",
              "      buttonEl.style.display =\n",
              "        google.colab.kernel.accessAllowed ? 'block' : 'none';\n",
              "\n",
              "      async function convertToInteractive(key) {\n",
              "        const element = document.querySelector('#df-2ce0cf17-488a-46a2-b921-41fabc933fe5');\n",
              "        const dataTable =\n",
              "          await google.colab.kernel.invokeFunction('convertToInteractive',\n",
              "                                                    [key], {});\n",
              "        if (!dataTable) return;\n",
              "\n",
              "        const docLinkHtml = 'Like what you see? Visit the ' +\n",
              "          '<a target=\"_blank\" href=https://colab.research.google.com/notebooks/data_table.ipynb>data table notebook</a>'\n",
              "          + ' to learn more about interactive tables.';\n",
              "        element.innerHTML = '';\n",
              "        dataTable['output_type'] = 'display_data';\n",
              "        await google.colab.output.renderOutput(dataTable, element);\n",
              "        const docLink = document.createElement('div');\n",
              "        docLink.innerHTML = docLinkHtml;\n",
              "        element.appendChild(docLink);\n",
              "      }\n",
              "    </script>\n",
              "  </div>\n",
              "\n",
              "\n",
              "<div id=\"df-21cc75a0-bf8b-4035-86ec-a10b4e51190f\">\n",
              "  <button class=\"colab-df-quickchart\" onclick=\"quickchart('df-21cc75a0-bf8b-4035-86ec-a10b4e51190f')\"\n",
              "            title=\"Suggest charts\"\n",
              "            style=\"display:none;\">\n",
              "\n",
              "<svg xmlns=\"http://www.w3.org/2000/svg\" height=\"24px\"viewBox=\"0 0 24 24\"\n",
              "     width=\"24px\">\n",
              "    <g>\n",
              "        <path d=\"M19 3H5c-1.1 0-2 .9-2 2v14c0 1.1.9 2 2 2h14c1.1 0 2-.9 2-2V5c0-1.1-.9-2-2-2zM9 17H7v-7h2v7zm4 0h-2V7h2v10zm4 0h-2v-4h2v4z\"/>\n",
              "    </g>\n",
              "</svg>\n",
              "  </button>\n",
              "\n",
              "<style>\n",
              "  .colab-df-quickchart {\n",
              "      --bg-color: #E8F0FE;\n",
              "      --fill-color: #1967D2;\n",
              "      --hover-bg-color: #E2EBFA;\n",
              "      --hover-fill-color: #174EA6;\n",
              "      --disabled-fill-color: #AAA;\n",
              "      --disabled-bg-color: #DDD;\n",
              "  }\n",
              "\n",
              "  [theme=dark] .colab-df-quickchart {\n",
              "      --bg-color: #3B4455;\n",
              "      --fill-color: #D2E3FC;\n",
              "      --hover-bg-color: #434B5C;\n",
              "      --hover-fill-color: #FFFFFF;\n",
              "      --disabled-bg-color: #3B4455;\n",
              "      --disabled-fill-color: #666;\n",
              "  }\n",
              "\n",
              "  .colab-df-quickchart {\n",
              "    background-color: var(--bg-color);\n",
              "    border: none;\n",
              "    border-radius: 50%;\n",
              "    cursor: pointer;\n",
              "    display: none;\n",
              "    fill: var(--fill-color);\n",
              "    height: 32px;\n",
              "    padding: 0;\n",
              "    width: 32px;\n",
              "  }\n",
              "\n",
              "  .colab-df-quickchart:hover {\n",
              "    background-color: var(--hover-bg-color);\n",
              "    box-shadow: 0 1px 2px rgba(60, 64, 67, 0.3), 0 1px 3px 1px rgba(60, 64, 67, 0.15);\n",
              "    fill: var(--button-hover-fill-color);\n",
              "  }\n",
              "\n",
              "  .colab-df-quickchart-complete:disabled,\n",
              "  .colab-df-quickchart-complete:disabled:hover {\n",
              "    background-color: var(--disabled-bg-color);\n",
              "    fill: var(--disabled-fill-color);\n",
              "    box-shadow: none;\n",
              "  }\n",
              "\n",
              "  .colab-df-spinner {\n",
              "    border: 2px solid var(--fill-color);\n",
              "    border-color: transparent;\n",
              "    border-bottom-color: var(--fill-color);\n",
              "    animation:\n",
              "      spin 1s steps(1) infinite;\n",
              "  }\n",
              "\n",
              "  @keyframes spin {\n",
              "    0% {\n",
              "      border-color: transparent;\n",
              "      border-bottom-color: var(--fill-color);\n",
              "      border-left-color: var(--fill-color);\n",
              "    }\n",
              "    20% {\n",
              "      border-color: transparent;\n",
              "      border-left-color: var(--fill-color);\n",
              "      border-top-color: var(--fill-color);\n",
              "    }\n",
              "    30% {\n",
              "      border-color: transparent;\n",
              "      border-left-color: var(--fill-color);\n",
              "      border-top-color: var(--fill-color);\n",
              "      border-right-color: var(--fill-color);\n",
              "    }\n",
              "    40% {\n",
              "      border-color: transparent;\n",
              "      border-right-color: var(--fill-color);\n",
              "      border-top-color: var(--fill-color);\n",
              "    }\n",
              "    60% {\n",
              "      border-color: transparent;\n",
              "      border-right-color: var(--fill-color);\n",
              "    }\n",
              "    80% {\n",
              "      border-color: transparent;\n",
              "      border-right-color: var(--fill-color);\n",
              "      border-bottom-color: var(--fill-color);\n",
              "    }\n",
              "    90% {\n",
              "      border-color: transparent;\n",
              "      border-bottom-color: var(--fill-color);\n",
              "    }\n",
              "  }\n",
              "</style>\n",
              "\n",
              "  <script>\n",
              "    async function quickchart(key) {\n",
              "      const quickchartButtonEl =\n",
              "        document.querySelector('#' + key + ' button');\n",
              "      quickchartButtonEl.disabled = true;  // To prevent multiple clicks.\n",
              "      quickchartButtonEl.classList.add('colab-df-spinner');\n",
              "      try {\n",
              "        const charts = await google.colab.kernel.invokeFunction(\n",
              "            'suggestCharts', [key], {});\n",
              "      } catch (error) {\n",
              "        console.error('Error during call to suggestCharts:', error);\n",
              "      }\n",
              "      quickchartButtonEl.classList.remove('colab-df-spinner');\n",
              "      quickchartButtonEl.classList.add('colab-df-quickchart-complete');\n",
              "    }\n",
              "    (() => {\n",
              "      let quickchartButtonEl =\n",
              "        document.querySelector('#df-21cc75a0-bf8b-4035-86ec-a10b4e51190f button');\n",
              "      quickchartButtonEl.style.display =\n",
              "        google.colab.kernel.accessAllowed ? 'block' : 'none';\n",
              "    })();\n",
              "  </script>\n",
              "</div>\n",
              "\n",
              "  <div id=\"id_fdcb9304-d705-4945-9a8c-c19845b985e8\">\n",
              "    <style>\n",
              "      .colab-df-generate {\n",
              "        background-color: #E8F0FE;\n",
              "        border: none;\n",
              "        border-radius: 50%;\n",
              "        cursor: pointer;\n",
              "        display: none;\n",
              "        fill: #1967D2;\n",
              "        height: 32px;\n",
              "        padding: 0 0 0 0;\n",
              "        width: 32px;\n",
              "      }\n",
              "\n",
              "      .colab-df-generate:hover {\n",
              "        background-color: #E2EBFA;\n",
              "        box-shadow: 0px 1px 2px rgba(60, 64, 67, 0.3), 0px 1px 3px 1px rgba(60, 64, 67, 0.15);\n",
              "        fill: #174EA6;\n",
              "      }\n",
              "\n",
              "      [theme=dark] .colab-df-generate {\n",
              "        background-color: #3B4455;\n",
              "        fill: #D2E3FC;\n",
              "      }\n",
              "\n",
              "      [theme=dark] .colab-df-generate:hover {\n",
              "        background-color: #434B5C;\n",
              "        box-shadow: 0px 1px 3px 1px rgba(0, 0, 0, 0.15);\n",
              "        filter: drop-shadow(0px 1px 2px rgba(0, 0, 0, 0.3));\n",
              "        fill: #FFFFFF;\n",
              "      }\n",
              "    </style>\n",
              "    <button class=\"colab-df-generate\" onclick=\"generateWithVariable('resultados')\"\n",
              "            title=\"Generate code using this dataframe.\"\n",
              "            style=\"display:none;\">\n",
              "\n",
              "  <svg xmlns=\"http://www.w3.org/2000/svg\" height=\"24px\"viewBox=\"0 0 24 24\"\n",
              "       width=\"24px\">\n",
              "    <path d=\"M7,19H8.4L18.45,9,17,7.55,7,17.6ZM5,21V16.75L18.45,3.32a2,2,0,0,1,2.83,0l1.4,1.43a1.91,1.91,0,0,1,.58,1.4,1.91,1.91,0,0,1-.58,1.4L9.25,21ZM18.45,9,17,7.55Zm-12,3A5.31,5.31,0,0,0,4.9,8.1,5.31,5.31,0,0,0,1,6.5,5.31,5.31,0,0,0,4.9,4.9,5.31,5.31,0,0,0,6.5,1,5.31,5.31,0,0,0,8.1,4.9,5.31,5.31,0,0,0,12,6.5,5.46,5.46,0,0,0,6.5,12Z\"/>\n",
              "  </svg>\n",
              "    </button>\n",
              "    <script>\n",
              "      (() => {\n",
              "      const buttonEl =\n",
              "        document.querySelector('#id_fdcb9304-d705-4945-9a8c-c19845b985e8 button.colab-df-generate');\n",
              "      buttonEl.style.display =\n",
              "        google.colab.kernel.accessAllowed ? 'block' : 'none';\n",
              "\n",
              "      buttonEl.onclick = () => {\n",
              "        google.colab.notebook.generateWithVariable('resultados');\n",
              "      }\n",
              "      })();\n",
              "    </script>\n",
              "  </div>\n",
              "\n",
              "    </div>\n",
              "  </div>\n"
            ],
            "application/vnd.google.colaboratory.intrinsic+json": {
              "type": "dataframe",
              "variable_name": "resultados",
              "summary": "{\n  \"name\": \"resultados\",\n  \"rows\": 800,\n  \"fields\": [\n    {\n      \"column\": \"Real\",\n      \"properties\": {\n        \"dtype\": \"number\",\n        \"std\": 0,\n        \"min\": 0,\n        \"max\": 1,\n        \"num_unique_values\": 2,\n        \"samples\": [\n          1,\n          0\n        ],\n        \"semantic_type\": \"\",\n        \"description\": \"\"\n      }\n    },\n    {\n      \"column\": \"Predicci\\u00f3n\",\n      \"properties\": {\n        \"dtype\": \"number\",\n        \"std\": 0,\n        \"min\": 0,\n        \"max\": 1,\n        \"num_unique_values\": 2,\n        \"samples\": [\n          1,\n          0\n        ],\n        \"semantic_type\": \"\",\n        \"description\": \"\"\n      }\n    }\n  ]\n}"
            }
          },
          "metadata": {},
          "execution_count": 36
        }
      ]
    },
    {
      "cell_type": "markdown",
      "source": [
        "## **7.2 Insights y Observaciones (Sección 7)**\n",
        "\n",
        "La comparación entre modelos mostró diferencias significativas en el rendimiento:  \n",
        "\n",
        "- **Regresión Logística:** Obtuvo una precisión de **80.12%**, pero con limitaciones al predecir la clase minoritaria de \"Rotación\". Esto se refleja en un sesgo hacia la clase mayoritaria.  \n",
        "- **Árboles de Decisión:** Lograron una precisión superior de **91.87%**, mostrando mejor capacidad para identificar correctamente ambos escenarios de rotación y no rotación.  \n",
        "- La tabla de resultados confirma que, aunque ambos modelos presentan predicciones correctas, el árbol de decisión mantiene una mejor **balance entre sensibilidad y precisión**, lo que lo convierte en la alternativa más confiable para este caso.  \n",
        "- Los árboles de decisión no solo ofrecen mayor precisión, sino también mejor interpretabilidad y adaptabilidad a datos mixtos, lo que los posiciona como el modelo más recomendable para este problema de predicción de rotación.\n"
      ],
      "metadata": {
        "id": "Lbt7dj2r_A35"
      }
    },
    {
      "cell_type": "markdown",
      "source": [
        "# **8. Estrategias y Recomendaciones**\n",
        "\n",
        "## **8.1 Objetivo de negocio**\n",
        "Usar los modelos de clasificación para **predecir la rotación de empleados** y **diseñar estrategias de retención** que reduzcan la pérdida de talento, priorizando acciones preventivas en perfiles con mayor riesgo de salida.\n",
        "\n",
        "## **8.2 Cómo usar el modelo**\n",
        "1. **Modelo recomendado:**  \n",
        "   - **Árboles de Decisión (Accuracy ≈ 0.92, AUC = 0.87):** mejor capacidad predictiva y balance entre clases.  \n",
        "   - **Regresión Logística (Accuracy ≈ 0.80, AUC = 0.54):** útil como modelo base por su interpretabilidad, aunque menos efectivo.  \n",
        "2. **Entrada esperada:** variables demográficas, laborales y de satisfacción, preprocesadas (escalado numérico y codificación de categorías).  \n",
        "3. **Salida:** predicción binaria (Rotación: Sí/No) + probabilidad asociada.  \n",
        "4. **Decisión:**  \n",
        "   - Si **predice Rotación con alta confianza** → activar plan de retención.  \n",
        "   - Si **predice No Rotación** → mantener estrategias de engagement y monitoreo.  \n",
        "\n",
        "## **8.3 Intervenciones sugeridas**\n",
        "- **Ingreso Mensual (indicador sensible):**  \n",
        "  - Diseñar esquemas de **revisión salarial competitiva**.  \n",
        "  - Beneficios no monetarios como bonos de desempeño y flexibilidad laboral.  \n",
        "- **Años en la Empresa / Promociones:**  \n",
        "  - Fortalecer **planes de carrera y movilidad interna**.  \n",
        "  - Identificar perfiles estancados y ofrecer **oportunidades de desarrollo**.  \n",
        "- **Balance Vida-Trabajo y Horas Extras:**  \n",
        "  - Políticas de **descanso y flexibilidad horaria**.  \n",
        "  - Detección temprana de sobrecarga laboral.  \n",
        "- **Satisfacción Laboral:**  \n",
        "  - Programas de **clima organizacional y reconocimiento**.  \n",
        "  - Encuestas periódicas para identificar puntos críticos.  \n",
        "\n",
        "## **8.4 Estrategias por perfil de predicción**\n",
        "- **Predicción Rotación = Sí**  \n",
        "  - **Acción:** plan de retención personalizado (ajustes en salario, mentoría, oportunidades de crecimiento).  \n",
        "  - **Seguimiento:** revisión mensual de métricas de satisfacción y desempeño.  \n",
        "- **Predicción Rotación = No**  \n",
        "  - **Acción:** mantener motivación mediante reconocimiento y beneficios.  \n",
        "  - **Seguimiento:** monitoreo semestral para detectar posibles cambios de tendencia.  \n",
        "\n",
        "## **8.5 Métricas de éxito y monitoreo**\n",
        "- **Modelo:** Accuracy, Recall de la clase \"Rotación\", y curva ROC/AUC.  \n",
        "- **Negocio:** reducción de la **tasa de rotación anual** y costos asociados a reclutamiento.  \n",
        "- **RR.HH.:** mejora en **satisfacción laboral**, aumento en retención de empleados clave y participación en programas internos.  \n",
        "\n",
        "## **8.6 Posibles mejoras**\n",
        "1. **Codificación avanzada:** migrar de LabelEncoder a **One-Hot Encoding** para mejorar la Regresión Logística.  \n",
        "2. **Balance de clases:** aplicar técnicas como **SMOTE/undersampling** para reducir el sesgo hacia la clase mayoritaria (No Rotación).  \n",
        "3. **Optimización:** búsqueda de hiperparámetros con **GridSearchCV** en Árboles y Logística.  \n",
        "4. **Modelos alternativos:** probar **Random Forest** o **XGBoost** para mayor robustez.  \n",
        "5. **Retraining periódico:** actualizar el modelo cada 6–12 meses o ante cambios en la dinámica laboral.  \n",
        "\n",
        "## **8.7 Resumen ejecutivo**\n",
        "- **Árboles de Decisión** se consolidan como el modelo más efectivo para la predicción de rotación.  \n",
        "- Las principales palancas de intervención son: **ingresos, promociones, balance vida-trabajo y satisfacción laboral**.  \n",
        "- El modelo debe ser una **herramienta de apoyo para RR.HH.**, combinando predicciones con estrategias preventivas y de retención.  \n",
        "- Es clave mantener un **monitoreo continuo y reentrenamiento periódico** para garantizar que el modelo se adapte a cambios en el entorno laboral.  \n"
      ],
      "metadata": {
        "id": "9KtUX5tm_2E-"
      }
    }
  ]
}